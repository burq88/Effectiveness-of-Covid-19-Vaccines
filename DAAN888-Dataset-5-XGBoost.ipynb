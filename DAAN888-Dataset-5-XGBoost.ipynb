{
 "cells": [
  {
   "cell_type": "code",
   "execution_count": 1,
   "metadata": {},
   "outputs": [],
   "source": [
    "#importing dependencies\n",
    "\n",
    "import numpy as np\n",
    "import pandas as pd\n",
    "import matplotlib.pyplot as plt\n",
    "import seaborn as sns\n",
    "import os\n",
    "import xgboost as xgb\n",
    "\n",
    "import warnings\n",
    "warnings.filterwarnings('ignore')\n",
    "\n",
    "from sklearn.model_selection import train_test_split\n",
    "from sklearn import metrics\n",
    "from sklearn.model_selection import cross_val_score\n",
    "from sklearn.model_selection import GridSearchCV\n",
    "from sklearn.metrics import accuracy_score\n",
    "#classificatin models\n",
    "from sklearn import tree\n",
    "from sklearn import svm\n",
    "from sklearn.ensemble import RandomForestClassifier\n",
    "from sklearn.ensemble import AdaBoostClassifier\n",
    "from xgboost import XGBClassifier\n",
    "from sklearn.linear_model import LogisticRegression"
   ]
  },
  {
   "cell_type": "code",
   "execution_count": 2,
   "metadata": {},
   "outputs": [
    {
     "data": {
      "text/plain": [
       "['case_month',\n",
       " 'res_state',\n",
       " 'age_group',\n",
       " 'sex',\n",
       " 'race',\n",
       " 'ethnicity',\n",
       " 'exposure_yn',\n",
       " 'current_status',\n",
       " 'symptom_status',\n",
       " 'hosp_yn',\n",
       " 'icu_yn',\n",
       " 'death_yn',\n",
       " 'underlying_conditions_yn']"
      ]
     },
     "execution_count": 2,
     "metadata": {},
     "output_type": "execute_result"
    }
   ],
   "source": [
    "dt_5 = pd.read_csv(r'C:\\Users\\burq_\\Downloads\\DAAN 888-Design and Implementation of Analytics system\\DAAN 888 Datasets\\Final datasets\\all cleaned-transformed datasets\\Dataset-5a-cleaned-w-underlying-conditions-nulls-imputed.csv')\n",
    "\n",
    "#EDA \n",
    "\n",
    "list(dt_5.columns)"
   ]
  },
  {
   "cell_type": "code",
   "execution_count": 3,
   "metadata": {},
   "outputs": [
    {
     "data": {
      "text/plain": [
       "(29851450, 13)"
      ]
     },
     "execution_count": 3,
     "metadata": {},
     "output_type": "execute_result"
    }
   ],
   "source": [
    "dt_5.shape"
   ]
  },
  {
   "cell_type": "code",
   "execution_count": 4,
   "metadata": {},
   "outputs": [
    {
     "data": {
      "text/plain": [
       "case_month                  object\n",
       "res_state                   object\n",
       "age_group                   object\n",
       "sex                         object\n",
       "race                        object\n",
       "ethnicity                   object\n",
       "exposure_yn                 object\n",
       "current_status              object\n",
       "symptom_status              object\n",
       "hosp_yn                     object\n",
       "icu_yn                      object\n",
       "death_yn                    object\n",
       "underlying_conditions_yn    object\n",
       "dtype: object"
      ]
     },
     "execution_count": 4,
     "metadata": {},
     "output_type": "execute_result"
    }
   ],
   "source": [
    "dt_5.dtypes"
   ]
  },
  {
   "cell_type": "code",
   "execution_count": 5,
   "metadata": {},
   "outputs": [
    {
     "data": {
      "text/plain": [
       "case_month                  0\n",
       "res_state                   0\n",
       "age_group                   0\n",
       "sex                         0\n",
       "race                        0\n",
       "ethnicity                   0\n",
       "exposure_yn                 0\n",
       "current_status              0\n",
       "symptom_status              0\n",
       "hosp_yn                     0\n",
       "icu_yn                      0\n",
       "death_yn                    0\n",
       "underlying_conditions_yn    0\n",
       "dtype: int64"
      ]
     },
     "execution_count": 5,
     "metadata": {},
     "output_type": "execute_result"
    }
   ],
   "source": [
    "dt_5.isnull().sum()"
   ]
  },
  {
   "cell_type": "code",
   "execution_count": 6,
   "metadata": {},
   "outputs": [
    {
     "data": {
      "text/plain": [
       "['age_group',\n",
       " 'sex',\n",
       " 'race',\n",
       " 'ethnicity',\n",
       " 'exposure_yn',\n",
       " 'current_status',\n",
       " 'symptom_status',\n",
       " 'hosp_yn',\n",
       " 'icu_yn',\n",
       " 'death_yn',\n",
       " 'underlying_conditions_yn']"
      ]
     },
     "execution_count": 6,
     "metadata": {},
     "output_type": "execute_result"
    }
   ],
   "source": [
    "# Dropping state and date cols\n",
    "\n",
    "dt_5a = dt_5.drop(dt_5.columns[[0,1]], axis = 1)\n",
    "list(dt_5a.columns)"
   ]
  },
  {
   "cell_type": "code",
   "execution_count": 7,
   "metadata": {},
   "outputs": [
    {
     "data": {
      "text/plain": [
       "['age_group_0 - 17 years',\n",
       " 'age_group_18 to 49 years',\n",
       " 'age_group_50 to 64 years',\n",
       " 'age_group_65+ years',\n",
       " 'race_American Indian/Alaska Native',\n",
       " 'race_Asian',\n",
       " 'race_Black',\n",
       " 'race_Multiple/Other',\n",
       " 'race_Native Hawaiian/Other Pacific Islander',\n",
       " 'race_White',\n",
       " 'sex_Female',\n",
       " 'sex_Male',\n",
       " 'sex_Other',\n",
       " 'ethnicity_Hispanic/Latino',\n",
       " 'ethnicity_Non-Hispanic/Latino',\n",
       " 'exposure_yn_Yes',\n",
       " 'current_status_Laboratory-confirmed case',\n",
       " 'current_status_Probable Case',\n",
       " 'symptom_status_Asymptomatic',\n",
       " 'symptom_status_Symptomatic',\n",
       " 'underlying_conditions_yn_No',\n",
       " 'underlying_conditions_yn_Yes',\n",
       " 'hosp_yn_No',\n",
       " 'hosp_yn_Yes',\n",
       " 'icu_yn_No',\n",
       " 'icu_yn_Yes',\n",
       " 'death_yn_Yes']"
      ]
     },
     "execution_count": 7,
     "metadata": {},
     "output_type": "execute_result"
    }
   ],
   "source": [
    "# converting the etnicity into dummy variables to check the trends against target variable\n",
    "\n",
    "dt5a_dummy = pd.get_dummies(data= dt_5a, columns=['age_group', 'race', 'sex', 'ethnicity', 'exposure_yn','current_status', 'symptom_status', 'underlying_conditions_yn'])\n",
    "list(dt5a_dummy.columns)\n",
    "\n",
    "# Dropping all the 'not specified' columns from the dataset 5a_dummy\n",
    "\n",
    "dt5a_dummy.drop(dt5a_dummy.columns[[7,14,18,21,23,28,31]], axis = 1, inplace = True)\n",
    "\n",
    "dt_5b_dummy = pd.get_dummies(data = dt5a_dummy, columns = ['hosp_yn', 'icu_yn', 'death_yn'])\n",
    "dt_5b_dummy.drop(dt_5b_dummy.columns[[24, 27,28,30]], axis=1, inplace = True)\n",
    "list(dt_5b_dummy.columns)\n"
   ]
  },
  {
   "cell_type": "code",
   "execution_count": 8,
   "metadata": {},
   "outputs": [
    {
     "data": {
      "text/plain": [
       "age_group_0 - 17 years                         uint8\n",
       "age_group_18 to 49 years                       uint8\n",
       "age_group_50 to 64 years                       uint8\n",
       "age_group_65+ years                            uint8\n",
       "race_American Indian/Alaska Native             uint8\n",
       "race_Asian                                     uint8\n",
       "race_Black                                     uint8\n",
       "race_Multiple/Other                            uint8\n",
       "race_Native Hawaiian/Other Pacific Islander    uint8\n",
       "race_White                                     uint8\n",
       "sex_Female                                     uint8\n",
       "sex_Male                                       uint8\n",
       "sex_Other                                      uint8\n",
       "ethnicity_Hispanic/Latino                      uint8\n",
       "ethnicity_Non-Hispanic/Latino                  uint8\n",
       "exposure_yn_Yes                                uint8\n",
       "current_status_Laboratory-confirmed case       uint8\n",
       "current_status_Probable Case                   uint8\n",
       "symptom_status_Asymptomatic                    uint8\n",
       "symptom_status_Symptomatic                     uint8\n",
       "underlying_conditions_yn_No                    uint8\n",
       "underlying_conditions_yn_Yes                   uint8\n",
       "hosp_yn_No                                     uint8\n",
       "hosp_yn_Yes                                    uint8\n",
       "icu_yn_No                                      uint8\n",
       "icu_yn_Yes                                     uint8\n",
       "death_yn_Yes                                   uint8\n",
       "dtype: object"
      ]
     },
     "execution_count": 8,
     "metadata": {},
     "output_type": "execute_result"
    }
   ],
   "source": [
    "dt_5b_dummy.dtypes"
   ]
  },
  {
   "cell_type": "code",
   "execution_count": 9,
   "metadata": {},
   "outputs": [
    {
     "data": {
      "text/plain": [
       "['age_group_0 - 17 years',\n",
       " 'age_group_18 to 49 years',\n",
       " 'age_group_50 to 64 years',\n",
       " 'age_group_65+ years',\n",
       " 'race_American Indian/Alaska Native',\n",
       " 'race_Asian',\n",
       " 'race_Black',\n",
       " 'race_Multiple/Other',\n",
       " 'race_Native Hawaiian/Other Pacific Islander',\n",
       " 'race_White',\n",
       " 'sex_Female',\n",
       " 'sex_Male',\n",
       " 'sex_Other',\n",
       " 'ethnicity_Hispanic/Latino',\n",
       " 'ethnicity_Non-Hispanic/Latino',\n",
       " 'exposure_yn_Yes',\n",
       " 'current_status_Laboratory-confirmed case',\n",
       " 'current_status_Probable Case',\n",
       " 'symptom_status_Asymptomatic',\n",
       " 'symptom_status_Symptomatic',\n",
       " 'underlying_conditions_yn_No',\n",
       " 'underlying_conditions_yn_Yes',\n",
       " 'hosp_yn_No',\n",
       " 'hosp_yn_Yes',\n",
       " 'icu_yn_No',\n",
       " 'icu_yn_Yes']"
      ]
     },
     "execution_count": 9,
     "metadata": {},
     "output_type": "execute_result"
    }
   ],
   "source": [
    "# separating into input and output cols\n",
    "\n",
    "X = dt_5b_dummy.iloc[:, :-1]\n",
    "list(X.columns)"
   ]
  },
  {
   "cell_type": "code",
   "execution_count": 10,
   "metadata": {},
   "outputs": [
    {
     "data": {
      "text/plain": [
       "0    0\n",
       "1    0\n",
       "2    0\n",
       "3    0\n",
       "4    0\n",
       "Name: death_yn_Yes, dtype: uint8"
      ]
     },
     "execution_count": 10,
     "metadata": {},
     "output_type": "execute_result"
    }
   ],
   "source": [
    "y = dt_5b_dummy.iloc[:, -1]\n",
    "y.head()"
   ]
  },
  {
   "cell_type": "code",
   "execution_count": 13,
   "metadata": {},
   "outputs": [
    {
     "name": "stdout",
     "output_type": "stream",
     "text": [
      "test and train split\n",
      "train X.shape:\n",
      "(20896015, 26)\n",
      "train y.shape\n",
      "(20896015,)\n",
      "\n",
      "Number of 0s, 1s in y.train\n",
      "0    20691965\n",
      "1      204050\n",
      "Name: death_yn_Yes, dtype: int64\n",
      "\n",
      "test X.shape\n",
      "(8955435, 26)\n",
      "test y.shape\n",
      "(8955435,)\n"
     ]
    }
   ],
   "source": [
    "# splitting data into test and train \n",
    "\n",
    "X_train, X_test, y_train, y_test = train_test_split(\n",
    "        X, y, test_size = 0.3, random_state=1)\n",
    "\n",
    "print(\"test and train split\")\n",
    "print(\"train X.shape:\")\n",
    "print(X_train.shape)\n",
    "print(\"train y.shape\")\n",
    "print(y_train.shape)\n",
    "print(\"\")\n",
    "print(\"Number of 0s, 1s in y.train\")\n",
    "print(y_train.value_counts())\n",
    "print(\"\")\n",
    "print(\"test X.shape\")\n",
    "print(X_test.shape)\n",
    "print(\"test y.shape\")\n",
    "print(y_test.shape)\n"
   ]
  },
  {
   "cell_type": "code",
   "execution_count": 14,
   "metadata": {},
   "outputs": [
    {
     "name": "stdout",
     "output_type": "stream",
     "text": [
      "[18:15:32] WARNING: C:/Users/Administrator/workspace/xgboost-win64_release_1.5.0/src/learner.cc:1115: Starting in XGBoost 1.3.0, the default evaluation metric used with the objective 'binary:logistic' was changed from 'error' to 'logloss'. Explicitly set eval_metric if you'd like to restore the old behavior.\n",
      "XGBClassifier(base_score=0.5, booster='gbtree', colsample_bylevel=1,\n",
      "              colsample_bynode=1, colsample_bytree=1, enable_categorical=False,\n",
      "              gamma=0, gpu_id=-1, importance_type=None,\n",
      "              interaction_constraints='', learning_rate=0.300000012,\n",
      "              max_delta_step=0, max_depth=6, min_child_weight=1, missing=nan,\n",
      "              monotone_constraints='()', n_estimators=100, n_jobs=8,\n",
      "              num_parallel_tree=1, predictor='auto', random_state=0,\n",
      "              reg_alpha=0, reg_lambda=1, scale_pos_weight=1, subsample=1,\n",
      "              tree_method='approx', validate_parameters=1, verbosity=None)\n"
     ]
    }
   ],
   "source": [
    "# XGBoost Model\n",
    "\n",
    "model = XGBClassifier()\n",
    "\n",
    "model.fit(X_train, y_train)\n",
    "print(model)"
   ]
  },
  {
   "cell_type": "code",
   "execution_count": 16,
   "metadata": {},
   "outputs": [
    {
     "name": "stdout",
     "output_type": "stream",
     "text": [
      "Accuracy: 99.05%\n"
     ]
    }
   ],
   "source": [
    "# make predictions for test data\n",
    "y_pred = model.predict(X_test)\n",
    "predictions = [round(value) for value in y_pred]\n",
    "# evaluate predictions\n",
    "accuracy = accuracy_score(y_test, predictions)\n",
    "print(\"Accuracy: %.2f%%\" % (accuracy * 100.0))"
   ]
  },
  {
   "cell_type": "code",
   "execution_count": 17,
   "metadata": {},
   "outputs": [
    {
     "data": {
      "text/html": [
       "<div>\n",
       "<style scoped>\n",
       "    .dataframe tbody tr th:only-of-type {\n",
       "        vertical-align: middle;\n",
       "    }\n",
       "\n",
       "    .dataframe tbody tr th {\n",
       "        vertical-align: top;\n",
       "    }\n",
       "\n",
       "    .dataframe thead th {\n",
       "        text-align: right;\n",
       "    }\n",
       "</style>\n",
       "<table border=\"1\" class=\"dataframe\">\n",
       "  <thead>\n",
       "    <tr style=\"text-align: right;\">\n",
       "      <th></th>\n",
       "      <th>feature</th>\n",
       "      <th>importance</th>\n",
       "    </tr>\n",
       "  </thead>\n",
       "  <tbody>\n",
       "    <tr>\n",
       "      <th>3</th>\n",
       "      <td>age_group_65+ years</td>\n",
       "      <td>0.591670</td>\n",
       "    </tr>\n",
       "    <tr>\n",
       "      <th>23</th>\n",
       "      <td>hosp_yn_Yes</td>\n",
       "      <td>0.169017</td>\n",
       "    </tr>\n",
       "    <tr>\n",
       "      <th>1</th>\n",
       "      <td>age_group_18 to 49 years</td>\n",
       "      <td>0.041325</td>\n",
       "    </tr>\n",
       "    <tr>\n",
       "      <th>0</th>\n",
       "      <td>age_group_0 - 17 years</td>\n",
       "      <td>0.038345</td>\n",
       "    </tr>\n",
       "    <tr>\n",
       "      <th>25</th>\n",
       "      <td>icu_yn_Yes</td>\n",
       "      <td>0.021992</td>\n",
       "    </tr>\n",
       "    <tr>\n",
       "      <th>2</th>\n",
       "      <td>age_group_50 to 64 years</td>\n",
       "      <td>0.019093</td>\n",
       "    </tr>\n",
       "    <tr>\n",
       "      <th>14</th>\n",
       "      <td>ethnicity_Non-Hispanic/Latino</td>\n",
       "      <td>0.018356</td>\n",
       "    </tr>\n",
       "    <tr>\n",
       "      <th>13</th>\n",
       "      <td>ethnicity_Hispanic/Latino</td>\n",
       "      <td>0.015589</td>\n",
       "    </tr>\n",
       "    <tr>\n",
       "      <th>19</th>\n",
       "      <td>symptom_status_Symptomatic</td>\n",
       "      <td>0.012298</td>\n",
       "    </tr>\n",
       "    <tr>\n",
       "      <th>9</th>\n",
       "      <td>race_White</td>\n",
       "      <td>0.009399</td>\n",
       "    </tr>\n",
       "    <tr>\n",
       "      <th>18</th>\n",
       "      <td>symptom_status_Asymptomatic</td>\n",
       "      <td>0.009135</td>\n",
       "    </tr>\n",
       "    <tr>\n",
       "      <th>10</th>\n",
       "      <td>sex_Female</td>\n",
       "      <td>0.008048</td>\n",
       "    </tr>\n",
       "    <tr>\n",
       "      <th>16</th>\n",
       "      <td>current_status_Laboratory-confirmed case</td>\n",
       "      <td>0.007183</td>\n",
       "    </tr>\n",
       "    <tr>\n",
       "      <th>21</th>\n",
       "      <td>underlying_conditions_yn_Yes</td>\n",
       "      <td>0.005791</td>\n",
       "    </tr>\n",
       "    <tr>\n",
       "      <th>15</th>\n",
       "      <td>exposure_yn_Yes</td>\n",
       "      <td>0.005515</td>\n",
       "    </tr>\n",
       "    <tr>\n",
       "      <th>11</th>\n",
       "      <td>sex_Male</td>\n",
       "      <td>0.005028</td>\n",
       "    </tr>\n",
       "    <tr>\n",
       "      <th>5</th>\n",
       "      <td>race_Asian</td>\n",
       "      <td>0.003968</td>\n",
       "    </tr>\n",
       "    <tr>\n",
       "      <th>7</th>\n",
       "      <td>race_Multiple/Other</td>\n",
       "      <td>0.003923</td>\n",
       "    </tr>\n",
       "    <tr>\n",
       "      <th>24</th>\n",
       "      <td>icu_yn_No</td>\n",
       "      <td>0.003810</td>\n",
       "    </tr>\n",
       "    <tr>\n",
       "      <th>6</th>\n",
       "      <td>race_Black</td>\n",
       "      <td>0.003497</td>\n",
       "    </tr>\n",
       "    <tr>\n",
       "      <th>22</th>\n",
       "      <td>hosp_yn_No</td>\n",
       "      <td>0.002714</td>\n",
       "    </tr>\n",
       "    <tr>\n",
       "      <th>8</th>\n",
       "      <td>race_Native Hawaiian/Other Pacific Islander</td>\n",
       "      <td>0.002301</td>\n",
       "    </tr>\n",
       "    <tr>\n",
       "      <th>4</th>\n",
       "      <td>race_American Indian/Alaska Native</td>\n",
       "      <td>0.001392</td>\n",
       "    </tr>\n",
       "    <tr>\n",
       "      <th>20</th>\n",
       "      <td>underlying_conditions_yn_No</td>\n",
       "      <td>0.000610</td>\n",
       "    </tr>\n",
       "    <tr>\n",
       "      <th>17</th>\n",
       "      <td>current_status_Probable Case</td>\n",
       "      <td>0.000000</td>\n",
       "    </tr>\n",
       "    <tr>\n",
       "      <th>12</th>\n",
       "      <td>sex_Other</td>\n",
       "      <td>0.000000</td>\n",
       "    </tr>\n",
       "  </tbody>\n",
       "</table>\n",
       "</div>"
      ],
      "text/plain": [
       "                                        feature  importance\n",
       "3                           age_group_65+ years    0.591670\n",
       "23                                  hosp_yn_Yes    0.169017\n",
       "1                      age_group_18 to 49 years    0.041325\n",
       "0                        age_group_0 - 17 years    0.038345\n",
       "25                                   icu_yn_Yes    0.021992\n",
       "2                      age_group_50 to 64 years    0.019093\n",
       "14                ethnicity_Non-Hispanic/Latino    0.018356\n",
       "13                    ethnicity_Hispanic/Latino    0.015589\n",
       "19                   symptom_status_Symptomatic    0.012298\n",
       "9                                    race_White    0.009399\n",
       "18                  symptom_status_Asymptomatic    0.009135\n",
       "10                                   sex_Female    0.008048\n",
       "16     current_status_Laboratory-confirmed case    0.007183\n",
       "21                 underlying_conditions_yn_Yes    0.005791\n",
       "15                              exposure_yn_Yes    0.005515\n",
       "11                                     sex_Male    0.005028\n",
       "5                                    race_Asian    0.003968\n",
       "7                           race_Multiple/Other    0.003923\n",
       "24                                    icu_yn_No    0.003810\n",
       "6                                    race_Black    0.003497\n",
       "22                                   hosp_yn_No    0.002714\n",
       "8   race_Native Hawaiian/Other Pacific Islander    0.002301\n",
       "4            race_American Indian/Alaska Native    0.001392\n",
       "20                  underlying_conditions_yn_No    0.000610\n",
       "17                 current_status_Probable Case    0.000000\n",
       "12                                    sex_Other    0.000000"
      ]
     },
     "execution_count": 17,
     "metadata": {},
     "output_type": "execute_result"
    }
   ],
   "source": [
    "feature_importance = pd.DataFrame({'feature':X.columns,\n",
    "              'importance':model.feature_importances_})\n",
    "feature_importance.sort_values(by='importance', ascending=False)"
   ]
  },
  {
   "cell_type": "code",
   "execution_count": 22,
   "metadata": {},
   "outputs": [
    {
     "data": {
      "image/png": "[encoded data removed]",
      "text/plain": [
       "<Figure size 432x288 with 1 Axes>"
      ]
     },
     "metadata": {
      "needs_background": "light"
     },
     "output_type": "display_data"
    }
   ],
   "source": [
    "importance = model.feature_importances_\n",
    "\n",
    "# plot feature importance\n",
    "plt.bar([x for x in range(len(importance))], importance, label=X.columns)\n",
    "plt.show()"
   ]
  },
  {
   "cell_type": "code",
   "execution_count": 23,
   "metadata": {},
   "outputs": [
    {
     "data": {
      "text/plain": [
       "['race_American Indian/Alaska Native',\n",
       " 'race_Asian',\n",
       " 'race_Black',\n",
       " 'race_Multiple/Other',\n",
       " 'race_Native Hawaiian/Other Pacific Islander',\n",
       " 'race_White']"
      ]
     },
     "execution_count": 23,
     "metadata": {},
     "output_type": "execute_result"
    }
   ],
   "source": [
    "# removing all the predictive columns except the race to check which race is at a higher risk\n",
    "\n",
    "Xa= dt_5b_dummy.iloc[:, 4:10]\n",
    "list(Xa.columns)\n"
   ]
  },
  {
   "cell_type": "code",
   "execution_count": 25,
   "metadata": {},
   "outputs": [
    {
     "name": "stdout",
     "output_type": "stream",
     "text": [
      "test and train split\n",
      "train Xa.shape:\n",
      "(20896015, 6)\n",
      "train y.shape\n",
      "(20896015,)\n",
      "\n",
      "Number of 0s, 1s in y.train\n",
      "0    20691965\n",
      "1      204050\n",
      "Name: death_yn_Yes, dtype: int64\n",
      "\n",
      "test Xa.shape\n",
      "(8955435, 6)\n",
      "test y.shape\n",
      "(8955435,)\n"
     ]
    }
   ],
   "source": [
    "# splitting data into test and train \n",
    "\n",
    "Xa_train, Xa_test, y_train, y_test = train_test_split(\n",
    "        Xa, y, test_size = 0.3, random_state=1)\n",
    "\n",
    "print(\"test and train split\")\n",
    "print(\"train Xa.shape:\")\n",
    "print(Xa_train.shape)\n",
    "print(\"train y.shape\")\n",
    "print(y_train.shape)\n",
    "print(\"\")\n",
    "print(\"Number of 0s, 1s in y.train\")\n",
    "print(y_train.value_counts())\n",
    "print(\"\")\n",
    "print(\"test Xa.shape\")\n",
    "print(Xa_test.shape)\n",
    "print(\"test y.shape\")\n",
    "print(y_test.shape)"
   ]
  },
  {
   "cell_type": "code",
   "execution_count": 26,
   "metadata": {},
   "outputs": [
    {
     "name": "stdout",
     "output_type": "stream",
     "text": [
      "[19:18:14] WARNING: C:/Users/Administrator/workspace/xgboost-win64_release_1.5.0/src/learner.cc:1115: Starting in XGBoost 1.3.0, the default evaluation metric used with the objective 'binary:logistic' was changed from 'error' to 'logloss'. Explicitly set eval_metric if you'd like to restore the old behavior.\n",
      "XGBClassifier(base_score=0.5, booster='gbtree', colsample_bylevel=1,\n",
      "              colsample_bynode=1, colsample_bytree=1, enable_categorical=False,\n",
      "              gamma=0, gpu_id=-1, importance_type=None,\n",
      "              interaction_constraints='', learning_rate=0.300000012,\n",
      "              max_delta_step=0, max_depth=6, min_child_weight=1, missing=nan,\n",
      "              monotone_constraints='()', n_estimators=100, n_jobs=8,\n",
      "              num_parallel_tree=1, predictor='auto', random_state=0,\n",
      "              reg_alpha=0, reg_lambda=1, scale_pos_weight=1, subsample=1,\n",
      "              tree_method='approx', validate_parameters=1, verbosity=None)\n"
     ]
    }
   ],
   "source": [
    "model_a = XGBClassifier()\n",
    "\n",
    "model_a.fit(Xa_train, y_train)\n",
    "print(model_a)"
   ]
  },
  {
   "cell_type": "code",
   "execution_count": 28,
   "metadata": {},
   "outputs": [
    {
     "name": "stdout",
     "output_type": "stream",
     "text": [
      "Accuracy: 99.03%\n"
     ]
    }
   ],
   "source": [
    "# make predictions for test data\n",
    "y_pred1 = model_a.predict(Xa_test)\n",
    "predictions1 = [round(value) for value in y_pred1]\n",
    "# evaluate predictions\n",
    "accuracy1 = accuracy_score(y_test, predictions1)\n",
    "print(\"Accuracy: %.2f%%\" % (accuracy1 * 100.0))"
   ]
  },
  {
   "cell_type": "code",
   "execution_count": 29,
   "metadata": {},
   "outputs": [
    {
     "data": {
      "text/html": [
       "<div>\n",
       "<style scoped>\n",
       "    .dataframe tbody tr th:only-of-type {\n",
       "        vertical-align: middle;\n",
       "    }\n",
       "\n",
       "    .dataframe tbody tr th {\n",
       "        vertical-align: top;\n",
       "    }\n",
       "\n",
       "    .dataframe thead th {\n",
       "        text-align: right;\n",
       "    }\n",
       "</style>\n",
       "<table border=\"1\" class=\"dataframe\">\n",
       "  <thead>\n",
       "    <tr style=\"text-align: right;\">\n",
       "      <th></th>\n",
       "      <th>feature</th>\n",
       "      <th>importance</th>\n",
       "    </tr>\n",
       "  </thead>\n",
       "  <tbody>\n",
       "    <tr>\n",
       "      <th>5</th>\n",
       "      <td>race_White</td>\n",
       "      <td>0.723205</td>\n",
       "    </tr>\n",
       "    <tr>\n",
       "      <th>2</th>\n",
       "      <td>race_Black</td>\n",
       "      <td>0.174928</td>\n",
       "    </tr>\n",
       "    <tr>\n",
       "      <th>1</th>\n",
       "      <td>race_Asian</td>\n",
       "      <td>0.099220</td>\n",
       "    </tr>\n",
       "    <tr>\n",
       "      <th>4</th>\n",
       "      <td>race_Native Hawaiian/Other Pacific Islander</td>\n",
       "      <td>0.002119</td>\n",
       "    </tr>\n",
       "    <tr>\n",
       "      <th>0</th>\n",
       "      <td>race_American Indian/Alaska Native</td>\n",
       "      <td>0.000295</td>\n",
       "    </tr>\n",
       "    <tr>\n",
       "      <th>3</th>\n",
       "      <td>race_Multiple/Other</td>\n",
       "      <td>0.000233</td>\n",
       "    </tr>\n",
       "  </tbody>\n",
       "</table>\n",
       "</div>"
      ],
      "text/plain": [
       "                                       feature  importance\n",
       "5                                   race_White    0.723205\n",
       "2                                   race_Black    0.174928\n",
       "1                                   race_Asian    0.099220\n",
       "4  race_Native Hawaiian/Other Pacific Islander    0.002119\n",
       "0           race_American Indian/Alaska Native    0.000295\n",
       "3                          race_Multiple/Other    0.000233"
      ]
     },
     "execution_count": 29,
     "metadata": {},
     "output_type": "execute_result"
    }
   ],
   "source": [
    "feature_importance1 = pd.DataFrame({'feature':Xa.columns,\n",
    "              'importance':model_a.feature_importances_})\n",
    "feature_importance1.sort_values(by='importance', ascending=False)"
   ]
  },
  {
   "cell_type": "code",
   "execution_count": 30,
   "metadata": {},
   "outputs": [
    {
     "data": {
      "image/png": "[encoded data removed]",
      "text/plain": [
       "<Figure size 432x288 with 1 Axes>"
      ]
     },
     "metadata": {
      "needs_background": "light"
     },
     "output_type": "display_data"
    }
   ],
   "source": [
    "importance1 = model_a.feature_importances_\n",
    "\n",
    "# plot feature importance\n",
    "plt.bar([x for x in range(len(importance1))], importance1, label=Xa.columns)\n",
    "plt.show()"
   ]
  }
 ],
 "metadata": {
  "kernelspec": {
   "display_name": "Python 3",
   "language": "python",
   "name": "python3"
  },
  "language_info": {
   "codemirror_mode": {
    "name": "ipython",
    "version": 3
   },
   "file_extension": ".py",
   "mimetype": "text/x-python",
   "name": "python",
   "nbconvert_exporter": "python",
   "pygments_lexer": "ipython3",
   "version": "3.8.5"
  }
 },
 "nbformat": 4,
 "nbformat_minor": 4
}
