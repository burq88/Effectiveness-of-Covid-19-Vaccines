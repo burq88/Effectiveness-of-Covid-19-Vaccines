{
 "cells": [
  {
   "cell_type": "markdown",
   "metadata": {},
   "source": [
    "# DAAN 888 Project"
   ]
  },
  {
   "cell_type": "code",
   "execution_count": 1,
   "metadata": {},
   "outputs": [],
   "source": [
    "import numpy as np\n",
    "import pandas as pd\n",
    "import os"
   ]
  },
  {
   "cell_type": "code",
   "execution_count": 2,
   "metadata": {},
   "outputs": [
    {
     "data": {
      "text/plain": [
       "['continent',\n",
       " 'location',\n",
       " 'date',\n",
       " 'total_cases',\n",
       " 'new_cases',\n",
       " 'new_cases_smoothed',\n",
       " 'total_deaths',\n",
       " 'new_deaths',\n",
       " 'new_deaths_smoothed',\n",
       " 'total_cases_per_million',\n",
       " 'new_cases_per_million',\n",
       " 'new_cases_smoothed_per_million',\n",
       " 'total_deaths_per_million',\n",
       " 'new_deaths_per_million',\n",
       " 'new_deaths_smoothed_per_million',\n",
       " 'reproduction_rate',\n",
       " 'icu_patients',\n",
       " 'icu_patients_per_million',\n",
       " 'hosp_patients',\n",
       " 'hosp_patients_per_million',\n",
       " 'weekly_icu_admissions',\n",
       " 'weekly_icu_admissions_per_million',\n",
       " 'weekly_hosp_admissions',\n",
       " 'weekly_hosp_admissions_per_million',\n",
       " 'new_tests',\n",
       " 'total_tests',\n",
       " 'total_tests_per_thousand',\n",
       " 'new_tests_per_thousand',\n",
       " 'new_tests_smoothed',\n",
       " 'new_tests_smoothed_per_thousand',\n",
       " 'positive_rate',\n",
       " 'tests_per_case',\n",
       " 'tests_units',\n",
       " 'total_vaccinations',\n",
       " 'people_vaccinated',\n",
       " 'people_fully_vaccinated',\n",
       " 'total_boosters',\n",
       " 'new_vaccinations',\n",
       " 'new_vaccinations_smoothed',\n",
       " 'total_vaccinations_per_hundred',\n",
       " 'people_vaccinated_per_hundred',\n",
       " 'people_fully_vaccinated_per_hundred',\n",
       " 'total_boosters_per_hundred',\n",
       " 'new_vaccinations_smoothed_per_million',\n",
       " 'stringency_index',\n",
       " 'population',\n",
       " 'population_density',\n",
       " 'median_age',\n",
       " 'aged_65_older',\n",
       " 'aged_70_older',\n",
       " 'gdp_per_capita',\n",
       " 'extreme_poverty',\n",
       " 'cardiovasc_death_rate',\n",
       " 'diabetes_prevalence',\n",
       " 'female_smokers',\n",
       " 'male_smokers',\n",
       " 'handwashing_facilities',\n",
       " 'hospital_beds_per_thousand',\n",
       " 'life_expectancy',\n",
       " 'human_development_index',\n",
       " 'excess_mortality_cumulative_absolute',\n",
       " 'excess_mortality_cumulative',\n",
       " 'excess_mortality',\n",
       " 'excess_mortality_cumulative_per_million']"
      ]
     },
     "execution_count": 2,
     "metadata": {},
     "output_type": "execute_result"
    }
   ],
   "source": [
    "Dataset_1 = pd.read_csv(r'C:\\Users\\burq_\\Downloads\\DAAN 888-Design and Implementation of Analytics system\\DAAN 888 Datasets\\Final datasets\\Dataset-1-owid-covid-data.csv')\n",
    "\n",
    "Dataset_1.drop(Dataset_1.columns[[0]], axis=1, inplace=True)\n",
    "\n",
    "list(Dataset_1.columns)"
   ]
  },
  {
   "cell_type": "code",
   "execution_count": 3,
   "metadata": {},
   "outputs": [
    {
     "data": {
      "text/plain": [
       "continent                                    5542\n",
       "location                                        0\n",
       "date                                            0\n",
       "total_cases                                  6226\n",
       "new_cases                                    6229\n",
       "                                            ...  \n",
       "human_development_index                     13954\n",
       "excess_mortality_cumulative_absolute       117427\n",
       "excess_mortality_cumulative                117427\n",
       "excess_mortality                           117427\n",
       "excess_mortality_cumulative_per_million    117427\n",
       "Length: 64, dtype: int64"
      ]
     },
     "execution_count": 3,
     "metadata": {},
     "output_type": "execute_result"
    }
   ],
   "source": [
    "Dataset_1.shape\n",
    "Dataset_1.isnull().sum()"
   ]
  },
  {
   "cell_type": "code",
   "execution_count": 4,
   "metadata": {},
   "outputs": [
    {
     "data": {
      "text/plain": [
       "3511143"
      ]
     },
     "execution_count": 4,
     "metadata": {},
     "output_type": "execute_result"
    }
   ],
   "source": [
    "Dataset_1.isnull().sum().sum() # gives us the total number of missing values in the entire dataset"
   ]
  },
  {
   "cell_type": "code",
   "execution_count": 5,
   "metadata": {},
   "outputs": [
    {
     "data": {
      "text/html": [
       "<div>\n",
       "<style scoped>\n",
       "    .dataframe tbody tr th:only-of-type {\n",
       "        vertical-align: middle;\n",
       "    }\n",
       "\n",
       "    .dataframe tbody tr th {\n",
       "        vertical-align: top;\n",
       "    }\n",
       "\n",
       "    .dataframe thead th {\n",
       "        text-align: right;\n",
       "    }\n",
       "</style>\n",
       "<table border=\"1\" class=\"dataframe\">\n",
       "  <thead>\n",
       "    <tr style=\"text-align: right;\">\n",
       "      <th></th>\n",
       "      <th>continent</th>\n",
       "      <th>location</th>\n",
       "    </tr>\n",
       "  </thead>\n",
       "  <tbody>\n",
       "    <tr>\n",
       "      <th>0</th>\n",
       "      <td>Asia</td>\n",
       "      <td>Afghanistan</td>\n",
       "    </tr>\n",
       "    <tr>\n",
       "      <th>1</th>\n",
       "      <td>Asia</td>\n",
       "      <td>Afghanistan</td>\n",
       "    </tr>\n",
       "    <tr>\n",
       "      <th>2</th>\n",
       "      <td>Asia</td>\n",
       "      <td>Afghanistan</td>\n",
       "    </tr>\n",
       "    <tr>\n",
       "      <th>3</th>\n",
       "      <td>Asia</td>\n",
       "      <td>Afghanistan</td>\n",
       "    </tr>\n",
       "    <tr>\n",
       "      <th>4</th>\n",
       "      <td>Asia</td>\n",
       "      <td>Afghanistan</td>\n",
       "    </tr>\n",
       "  </tbody>\n",
       "</table>\n",
       "</div>"
      ],
      "text/plain": [
       "  continent     location\n",
       "0      Asia  Afghanistan\n",
       "1      Asia  Afghanistan\n",
       "2      Asia  Afghanistan\n",
       "3      Asia  Afghanistan\n",
       "4      Asia  Afghanistan"
      ]
     },
     "execution_count": 5,
     "metadata": {},
     "output_type": "execute_result"
    }
   ],
   "source": [
    "# checking which values are null in the continent column\n",
    "# and finding it's equivalent country in the location column\n",
    "# for that we make only choose the location and continent columns and save them in a separate variable\n",
    "# then we'll make the location our index and return the index values for the null values in the continent column\n",
    "# this way we can get the names of the countries for which the continent column has a null value\n",
    "# then we can replace the null values with the correct continent name given the country name\n",
    "\n",
    "dt_continent = Dataset_1[['continent', 'location']]\n",
    "dt_continent.head()"
   ]
  },
  {
   "cell_type": "code",
   "execution_count": 6,
   "metadata": {},
   "outputs": [
    {
     "data": {
      "text/plain": [
       "{'Africa',\n",
       " 'Asia',\n",
       " 'Europe',\n",
       " 'European Union',\n",
       " 'International',\n",
       " 'North America',\n",
       " 'Oceania',\n",
       " 'South America',\n",
       " 'World'}"
      ]
     },
     "execution_count": 6,
     "metadata": {},
     "output_type": "execute_result"
    }
   ],
   "source": [
    "dt_continent = dt_continent.set_index(dt_continent['location'])\n",
    "null_values= dt_continent[dt_continent['continent'].isnull()].index.tolist()\n",
    "set(null_values)"
   ]
  },
  {
   "cell_type": "code",
   "execution_count": 7,
   "metadata": {},
   "outputs": [
    {
     "data": {
      "text/plain": [
       "array(['Asia', nan, 'Europe', 'Africa', 'North America', 'South America',\n",
       "       'Oceania'], dtype=object)"
      ]
     },
     "execution_count": 7,
     "metadata": {},
     "output_type": "execute_result"
    }
   ],
   "source": [
    "# we see that the rows that has missing values for the continent variable\n",
    "# have continent names in the location variable\n",
    "# except for three locations that are named as 'world', 'international' and 'European Union'\n",
    "# We are going to perform a two step process here\n",
    "# as we know that there's no such country and continent as 'international', 'world' and 'European Union'\n",
    "# first we'll replace all the values as 'international' in the location column by 'world' and 'European Union' by 'Europe'\n",
    "# and then we'll fill all the null values with 'world' in the continent column that has 'world' in the location col\n",
    "\n",
    "Dataset_1['location'].replace({'International': 'World', 'European Union' : 'Europe'}, inplace=True)\n",
    "Dataset_1.continent.unique()"
   ]
  },
  {
   "cell_type": "code",
   "execution_count": 8,
   "metadata": {},
   "outputs": [
    {
     "data": {
      "text/plain": [
       "array(['Asia', 'Africa', 'Europe', 'North America', 'South America',\n",
       "       'Oceania', 'World'], dtype=object)"
      ]
     },
     "execution_count": 8,
     "metadata": {},
     "output_type": "execute_result"
    }
   ],
   "source": [
    "Dataset_1['continent'].fillna(Dataset_1['location'], inplace=True)\n",
    "Dataset_1.continent.unique()"
   ]
  },
  {
   "cell_type": "markdown",
   "metadata": {},
   "source": [
    "We see that we don't have any missing values in the continent variable now"
   ]
  },
  {
   "cell_type": "code",
   "execution_count": 12,
   "metadata": {},
   "outputs": [
    {
     "data": {
      "text/plain": [
       "231"
      ]
     },
     "execution_count": 12,
     "metadata": {},
     "output_type": "execute_result"
    }
   ],
   "source": [
    "#let's see how many unique countries do we have\n",
    "Dataset_1.location.nunique()"
   ]
  },
  {
   "cell_type": "code",
   "execution_count": 9,
   "metadata": {},
   "outputs": [
    {
     "data": {
      "text/plain": [
       "continent                                   object\n",
       "location                                    object\n",
       "date                                        object\n",
       "total_cases                                float64\n",
       "new_cases                                  float64\n",
       "                                            ...   \n",
       "human_development_index                    float64\n",
       "excess_mortality_cumulative_absolute       float64\n",
       "excess_mortality_cumulative                float64\n",
       "excess_mortality                           float64\n",
       "excess_mortality_cumulative_per_million    float64\n",
       "Length: 64, dtype: object"
      ]
     },
     "execution_count": 9,
     "metadata": {},
     "output_type": "execute_result"
    }
   ],
   "source": [
    "Dataset_1.dtypes"
   ]
  },
  {
   "cell_type": "code",
   "execution_count": 10,
   "metadata": {},
   "outputs": [
    {
     "data": {
      "text/plain": [
       "array([nan, 'tests performed', 'people tested', 'units unclear',\n",
       "       'samples tested'], dtype=object)"
      ]
     },
     "execution_count": 10,
     "metadata": {},
     "output_type": "execute_result"
    }
   ],
   "source": [
    "# the only object types here are continent, location and tests_units\n",
    "Dataset_1.tests_units.unique()"
   ]
  },
  {
   "cell_type": "code",
   "execution_count": 11,
   "metadata": {},
   "outputs": [
    {
     "data": {
      "text/plain": [
       "array(['units unclear', 'tests performed', 'people tested',\n",
       "       'samples tested'], dtype=object)"
      ]
     },
     "execution_count": 11,
     "metadata": {},
     "output_type": "execute_result"
    }
   ],
   "source": [
    "# replace null values in 'tests_units' with 'units unclear'\n",
    "# 'units unclear' is one of the values in tests_units col\n",
    "\n",
    "Dataset_1['tests_units'].fillna('units unclear', inplace=True)\n",
    "Dataset_1.tests_units.unique()"
   ]
  },
  {
   "cell_type": "code",
   "execution_count": 13,
   "metadata": {},
   "outputs": [
    {
     "data": {
      "text/plain": [
       "Timestamp('2020-12-01 00:00:00')"
      ]
     },
     "execution_count": 13,
     "metadata": {},
     "output_type": "execute_result"
    }
   ],
   "source": [
    "#sorting the dataset according to the date column\n",
    "\n",
    "Dataset_1['date'] = pd.to_datetime(Dataset_1['date'])\n",
    "Dataset_1 = Dataset_1.set_index(Dataset_1['date'])\n",
    "Dataset_1 = Dataset_1.sort_index()\n",
    "\n",
    "#creating a new dataframe with the vaccination columns only to see where\n",
    "#the first non-null value for vaccinations is\n",
    "new_df = Dataset_1.iloc[:, 33:44]\n",
    "new_df.head()\n",
    "list(new_df.columns)\n",
    "new_df.first_valid_index()"
   ]
  },
  {
   "cell_type": "code",
   "execution_count": 14,
   "metadata": {},
   "outputs": [
    {
     "data": {
      "text/html": [
       "<div>\n",
       "<style scoped>\n",
       "    .dataframe tbody tr th:only-of-type {\n",
       "        vertical-align: middle;\n",
       "    }\n",
       "\n",
       "    .dataframe tbody tr th {\n",
       "        vertical-align: top;\n",
       "    }\n",
       "\n",
       "    .dataframe thead th {\n",
       "        text-align: right;\n",
       "    }\n",
       "</style>\n",
       "<table border=\"1\" class=\"dataframe\">\n",
       "  <thead>\n",
       "    <tr style=\"text-align: right;\">\n",
       "      <th></th>\n",
       "      <th>continent</th>\n",
       "      <th>location</th>\n",
       "      <th>date</th>\n",
       "      <th>total_cases</th>\n",
       "      <th>new_cases</th>\n",
       "      <th>new_cases_smoothed</th>\n",
       "      <th>total_deaths</th>\n",
       "      <th>new_deaths</th>\n",
       "      <th>new_deaths_smoothed</th>\n",
       "      <th>total_cases_per_million</th>\n",
       "      <th>...</th>\n",
       "      <th>female_smokers</th>\n",
       "      <th>male_smokers</th>\n",
       "      <th>handwashing_facilities</th>\n",
       "      <th>hospital_beds_per_thousand</th>\n",
       "      <th>life_expectancy</th>\n",
       "      <th>human_development_index</th>\n",
       "      <th>excess_mortality_cumulative_absolute</th>\n",
       "      <th>excess_mortality_cumulative</th>\n",
       "      <th>excess_mortality</th>\n",
       "      <th>excess_mortality_cumulative_per_million</th>\n",
       "    </tr>\n",
       "    <tr>\n",
       "      <th>date</th>\n",
       "      <th></th>\n",
       "      <th></th>\n",
       "      <th></th>\n",
       "      <th></th>\n",
       "      <th></th>\n",
       "      <th></th>\n",
       "      <th></th>\n",
       "      <th></th>\n",
       "      <th></th>\n",
       "      <th></th>\n",
       "      <th></th>\n",
       "      <th></th>\n",
       "      <th></th>\n",
       "      <th></th>\n",
       "      <th></th>\n",
       "      <th></th>\n",
       "      <th></th>\n",
       "      <th></th>\n",
       "      <th></th>\n",
       "      <th></th>\n",
       "      <th></th>\n",
       "    </tr>\n",
       "  </thead>\n",
       "  <tbody>\n",
       "    <tr>\n",
       "      <th>2020-01-01</th>\n",
       "      <td>South America</td>\n",
       "      <td>Peru</td>\n",
       "      <td>2020-01-01</td>\n",
       "      <td>NaN</td>\n",
       "      <td>NaN</td>\n",
       "      <td>NaN</td>\n",
       "      <td>NaN</td>\n",
       "      <td>NaN</td>\n",
       "      <td>NaN</td>\n",
       "      <td>NaN</td>\n",
       "      <td>...</td>\n",
       "      <td>4.8</td>\n",
       "      <td>NaN</td>\n",
       "      <td>NaN</td>\n",
       "      <td>1.60</td>\n",
       "      <td>76.74</td>\n",
       "      <td>0.777</td>\n",
       "      <td>NaN</td>\n",
       "      <td>NaN</td>\n",
       "      <td>NaN</td>\n",
       "      <td>NaN</td>\n",
       "    </tr>\n",
       "    <tr>\n",
       "      <th>2020-01-01</th>\n",
       "      <td>South America</td>\n",
       "      <td>Argentina</td>\n",
       "      <td>2020-01-01</td>\n",
       "      <td>NaN</td>\n",
       "      <td>NaN</td>\n",
       "      <td>NaN</td>\n",
       "      <td>NaN</td>\n",
       "      <td>NaN</td>\n",
       "      <td>NaN</td>\n",
       "      <td>NaN</td>\n",
       "      <td>...</td>\n",
       "      <td>16.2</td>\n",
       "      <td>27.7</td>\n",
       "      <td>NaN</td>\n",
       "      <td>5.00</td>\n",
       "      <td>76.67</td>\n",
       "      <td>0.845</td>\n",
       "      <td>NaN</td>\n",
       "      <td>NaN</td>\n",
       "      <td>NaN</td>\n",
       "      <td>NaN</td>\n",
       "    </tr>\n",
       "    <tr>\n",
       "      <th>2020-01-01</th>\n",
       "      <td>North America</td>\n",
       "      <td>Mexico</td>\n",
       "      <td>2020-01-01</td>\n",
       "      <td>NaN</td>\n",
       "      <td>NaN</td>\n",
       "      <td>NaN</td>\n",
       "      <td>NaN</td>\n",
       "      <td>NaN</td>\n",
       "      <td>NaN</td>\n",
       "      <td>NaN</td>\n",
       "      <td>...</td>\n",
       "      <td>6.9</td>\n",
       "      <td>21.4</td>\n",
       "      <td>87.847</td>\n",
       "      <td>1.38</td>\n",
       "      <td>75.05</td>\n",
       "      <td>0.779</td>\n",
       "      <td>NaN</td>\n",
       "      <td>NaN</td>\n",
       "      <td>NaN</td>\n",
       "      <td>NaN</td>\n",
       "    </tr>\n",
       "    <tr>\n",
       "      <th>2020-01-02</th>\n",
       "      <td>North America</td>\n",
       "      <td>Mexico</td>\n",
       "      <td>2020-01-02</td>\n",
       "      <td>NaN</td>\n",
       "      <td>NaN</td>\n",
       "      <td>NaN</td>\n",
       "      <td>NaN</td>\n",
       "      <td>NaN</td>\n",
       "      <td>NaN</td>\n",
       "      <td>NaN</td>\n",
       "      <td>...</td>\n",
       "      <td>6.9</td>\n",
       "      <td>21.4</td>\n",
       "      <td>87.847</td>\n",
       "      <td>1.38</td>\n",
       "      <td>75.05</td>\n",
       "      <td>0.779</td>\n",
       "      <td>NaN</td>\n",
       "      <td>NaN</td>\n",
       "      <td>NaN</td>\n",
       "      <td>NaN</td>\n",
       "    </tr>\n",
       "    <tr>\n",
       "      <th>2020-01-02</th>\n",
       "      <td>South America</td>\n",
       "      <td>Peru</td>\n",
       "      <td>2020-01-02</td>\n",
       "      <td>NaN</td>\n",
       "      <td>NaN</td>\n",
       "      <td>NaN</td>\n",
       "      <td>NaN</td>\n",
       "      <td>NaN</td>\n",
       "      <td>NaN</td>\n",
       "      <td>NaN</td>\n",
       "      <td>...</td>\n",
       "      <td>4.8</td>\n",
       "      <td>NaN</td>\n",
       "      <td>NaN</td>\n",
       "      <td>1.60</td>\n",
       "      <td>76.74</td>\n",
       "      <td>0.777</td>\n",
       "      <td>NaN</td>\n",
       "      <td>NaN</td>\n",
       "      <td>NaN</td>\n",
       "      <td>NaN</td>\n",
       "    </tr>\n",
       "  </tbody>\n",
       "</table>\n",
       "<p>5 rows × 64 columns</p>\n",
       "</div>"
      ],
      "text/plain": [
       "                continent   location       date  total_cases  new_cases  \\\n",
       "date                                                                      \n",
       "2020-01-01  South America       Peru 2020-01-01          NaN        NaN   \n",
       "2020-01-01  South America  Argentina 2020-01-01          NaN        NaN   \n",
       "2020-01-01  North America     Mexico 2020-01-01          NaN        NaN   \n",
       "2020-01-02  North America     Mexico 2020-01-02          NaN        NaN   \n",
       "2020-01-02  South America       Peru 2020-01-02          NaN        NaN   \n",
       "\n",
       "            new_cases_smoothed  total_deaths  new_deaths  new_deaths_smoothed  \\\n",
       "date                                                                            \n",
       "2020-01-01                 NaN           NaN         NaN                  NaN   \n",
       "2020-01-01                 NaN           NaN         NaN                  NaN   \n",
       "2020-01-01                 NaN           NaN         NaN                  NaN   \n",
       "2020-01-02                 NaN           NaN         NaN                  NaN   \n",
       "2020-01-02                 NaN           NaN         NaN                  NaN   \n",
       "\n",
       "            total_cases_per_million  ...  female_smokers  male_smokers  \\\n",
       "date                                 ...                                 \n",
       "2020-01-01                      NaN  ...             4.8           NaN   \n",
       "2020-01-01                      NaN  ...            16.2          27.7   \n",
       "2020-01-01                      NaN  ...             6.9          21.4   \n",
       "2020-01-02                      NaN  ...             6.9          21.4   \n",
       "2020-01-02                      NaN  ...             4.8           NaN   \n",
       "\n",
       "            handwashing_facilities  hospital_beds_per_thousand  \\\n",
       "date                                                             \n",
       "2020-01-01                     NaN                        1.60   \n",
       "2020-01-01                     NaN                        5.00   \n",
       "2020-01-01                  87.847                        1.38   \n",
       "2020-01-02                  87.847                        1.38   \n",
       "2020-01-02                     NaN                        1.60   \n",
       "\n",
       "            life_expectancy  human_development_index  \\\n",
       "date                                                   \n",
       "2020-01-01            76.74                    0.777   \n",
       "2020-01-01            76.67                    0.845   \n",
       "2020-01-01            75.05                    0.779   \n",
       "2020-01-02            75.05                    0.779   \n",
       "2020-01-02            76.74                    0.777   \n",
       "\n",
       "            excess_mortality_cumulative_absolute  excess_mortality_cumulative  \\\n",
       "date                                                                            \n",
       "2020-01-01                                   NaN                          NaN   \n",
       "2020-01-01                                   NaN                          NaN   \n",
       "2020-01-01                                   NaN                          NaN   \n",
       "2020-01-02                                   NaN                          NaN   \n",
       "2020-01-02                                   NaN                          NaN   \n",
       "\n",
       "            excess_mortality  excess_mortality_cumulative_per_million  \n",
       "date                                                                   \n",
       "2020-01-01               NaN                                      NaN  \n",
       "2020-01-01               NaN                                      NaN  \n",
       "2020-01-01               NaN                                      NaN  \n",
       "2020-01-02               NaN                                      NaN  \n",
       "2020-01-02               NaN                                      NaN  \n",
       "\n",
       "[5 rows x 64 columns]"
      ]
     },
     "execution_count": 14,
     "metadata": {},
     "output_type": "execute_result"
    }
   ],
   "source": [
    "#splitting the dataset according to the date we got for the first non null value in the \n",
    "#vaccination columns\n",
    "\n",
    "before_vax = Dataset_1['1/1/2020':'11/30/2020']\n",
    "after_vax  = Dataset_1['12/1/2020':]\n",
    "\n",
    "before_vax = pd.DataFrame(before_vax)\n",
    "after_vax = pd.DataFrame(after_vax)\n",
    "before_vax.head()"
   ]
  },
  {
   "cell_type": "code",
   "execution_count": 15,
   "metadata": {},
   "outputs": [
    {
     "data": {
      "text/html": [
       "<div>\n",
       "<style scoped>\n",
       "    .dataframe tbody tr th:only-of-type {\n",
       "        vertical-align: middle;\n",
       "    }\n",
       "\n",
       "    .dataframe tbody tr th {\n",
       "        vertical-align: top;\n",
       "    }\n",
       "\n",
       "    .dataframe thead th {\n",
       "        text-align: right;\n",
       "    }\n",
       "</style>\n",
       "<table border=\"1\" class=\"dataframe\">\n",
       "  <thead>\n",
       "    <tr style=\"text-align: right;\">\n",
       "      <th></th>\n",
       "      <th>continent</th>\n",
       "      <th>location</th>\n",
       "      <th>date</th>\n",
       "      <th>total_cases</th>\n",
       "      <th>new_cases</th>\n",
       "      <th>new_cases_smoothed</th>\n",
       "      <th>total_deaths</th>\n",
       "      <th>new_deaths</th>\n",
       "      <th>new_deaths_smoothed</th>\n",
       "      <th>total_cases_per_million</th>\n",
       "      <th>...</th>\n",
       "      <th>female_smokers</th>\n",
       "      <th>male_smokers</th>\n",
       "      <th>handwashing_facilities</th>\n",
       "      <th>hospital_beds_per_thousand</th>\n",
       "      <th>life_expectancy</th>\n",
       "      <th>human_development_index</th>\n",
       "      <th>excess_mortality_cumulative_absolute</th>\n",
       "      <th>excess_mortality_cumulative</th>\n",
       "      <th>excess_mortality</th>\n",
       "      <th>excess_mortality_cumulative_per_million</th>\n",
       "    </tr>\n",
       "    <tr>\n",
       "      <th>date</th>\n",
       "      <th></th>\n",
       "      <th></th>\n",
       "      <th></th>\n",
       "      <th></th>\n",
       "      <th></th>\n",
       "      <th></th>\n",
       "      <th></th>\n",
       "      <th></th>\n",
       "      <th></th>\n",
       "      <th></th>\n",
       "      <th></th>\n",
       "      <th></th>\n",
       "      <th></th>\n",
       "      <th></th>\n",
       "      <th></th>\n",
       "      <th></th>\n",
       "      <th></th>\n",
       "      <th></th>\n",
       "      <th></th>\n",
       "      <th></th>\n",
       "      <th></th>\n",
       "    </tr>\n",
       "  </thead>\n",
       "  <tbody>\n",
       "    <tr>\n",
       "      <th>2020-12-01</th>\n",
       "      <td>Europe</td>\n",
       "      <td>Austria</td>\n",
       "      <td>2020-12-01</td>\n",
       "      <td>285489.0</td>\n",
       "      <td>3033.0</td>\n",
       "      <td>4397.000</td>\n",
       "      <td>3325.0</td>\n",
       "      <td>141.0</td>\n",
       "      <td>106.857</td>\n",
       "      <td>31569.913</td>\n",
       "      <td>...</td>\n",
       "      <td>28.4</td>\n",
       "      <td>30.9</td>\n",
       "      <td>NaN</td>\n",
       "      <td>7.37</td>\n",
       "      <td>81.54</td>\n",
       "      <td>0.922</td>\n",
       "      <td>NaN</td>\n",
       "      <td>NaN</td>\n",
       "      <td>NaN</td>\n",
       "      <td>NaN</td>\n",
       "    </tr>\n",
       "    <tr>\n",
       "      <th>2020-12-01</th>\n",
       "      <td>North America</td>\n",
       "      <td>Belize</td>\n",
       "      <td>2020-12-01</td>\n",
       "      <td>5854.0</td>\n",
       "      <td>0.0</td>\n",
       "      <td>74.143</td>\n",
       "      <td>148.0</td>\n",
       "      <td>0.0</td>\n",
       "      <td>3.286</td>\n",
       "      <td>14457.355</td>\n",
       "      <td>...</td>\n",
       "      <td>NaN</td>\n",
       "      <td>NaN</td>\n",
       "      <td>90.083</td>\n",
       "      <td>1.30</td>\n",
       "      <td>74.62</td>\n",
       "      <td>0.716</td>\n",
       "      <td>NaN</td>\n",
       "      <td>NaN</td>\n",
       "      <td>NaN</td>\n",
       "      <td>NaN</td>\n",
       "    </tr>\n",
       "    <tr>\n",
       "      <th>2020-12-01</th>\n",
       "      <td>Africa</td>\n",
       "      <td>Mauritania</td>\n",
       "      <td>2020-12-01</td>\n",
       "      <td>8710.0</td>\n",
       "      <td>109.0</td>\n",
       "      <td>73.857</td>\n",
       "      <td>177.0</td>\n",
       "      <td>0.0</td>\n",
       "      <td>1.143</td>\n",
       "      <td>1824.042</td>\n",
       "      <td>...</td>\n",
       "      <td>NaN</td>\n",
       "      <td>NaN</td>\n",
       "      <td>15.950</td>\n",
       "      <td>NaN</td>\n",
       "      <td>64.92</td>\n",
       "      <td>0.546</td>\n",
       "      <td>NaN</td>\n",
       "      <td>NaN</td>\n",
       "      <td>NaN</td>\n",
       "      <td>NaN</td>\n",
       "    </tr>\n",
       "    <tr>\n",
       "      <th>2020-12-01</th>\n",
       "      <td>Asia</td>\n",
       "      <td>Hong Kong</td>\n",
       "      <td>2020-12-01</td>\n",
       "      <td>6396.0</td>\n",
       "      <td>82.0</td>\n",
       "      <td>87.857</td>\n",
       "      <td>109.0</td>\n",
       "      <td>0.0</td>\n",
       "      <td>0.143</td>\n",
       "      <td>846.838</td>\n",
       "      <td>...</td>\n",
       "      <td>NaN</td>\n",
       "      <td>NaN</td>\n",
       "      <td>NaN</td>\n",
       "      <td>NaN</td>\n",
       "      <td>84.86</td>\n",
       "      <td>0.949</td>\n",
       "      <td>NaN</td>\n",
       "      <td>NaN</td>\n",
       "      <td>NaN</td>\n",
       "      <td>NaN</td>\n",
       "    </tr>\n",
       "    <tr>\n",
       "      <th>2020-12-01</th>\n",
       "      <td>Asia</td>\n",
       "      <td>Iraq</td>\n",
       "      <td>2020-12-01</td>\n",
       "      <td>554767.0</td>\n",
       "      <td>2218.0</td>\n",
       "      <td>2145.429</td>\n",
       "      <td>12306.0</td>\n",
       "      <td>48.0</td>\n",
       "      <td>39.286</td>\n",
       "      <td>13471.970</td>\n",
       "      <td>...</td>\n",
       "      <td>NaN</td>\n",
       "      <td>NaN</td>\n",
       "      <td>94.576</td>\n",
       "      <td>1.40</td>\n",
       "      <td>70.60</td>\n",
       "      <td>0.674</td>\n",
       "      <td>NaN</td>\n",
       "      <td>NaN</td>\n",
       "      <td>NaN</td>\n",
       "      <td>NaN</td>\n",
       "    </tr>\n",
       "  </tbody>\n",
       "</table>\n",
       "<p>5 rows × 64 columns</p>\n",
       "</div>"
      ],
      "text/plain": [
       "                continent    location       date  total_cases  new_cases  \\\n",
       "date                                                                       \n",
       "2020-12-01         Europe     Austria 2020-12-01     285489.0     3033.0   \n",
       "2020-12-01  North America      Belize 2020-12-01       5854.0        0.0   \n",
       "2020-12-01         Africa  Mauritania 2020-12-01       8710.0      109.0   \n",
       "2020-12-01           Asia   Hong Kong 2020-12-01       6396.0       82.0   \n",
       "2020-12-01           Asia        Iraq 2020-12-01     554767.0     2218.0   \n",
       "\n",
       "            new_cases_smoothed  total_deaths  new_deaths  new_deaths_smoothed  \\\n",
       "date                                                                            \n",
       "2020-12-01            4397.000        3325.0       141.0              106.857   \n",
       "2020-12-01              74.143         148.0         0.0                3.286   \n",
       "2020-12-01              73.857         177.0         0.0                1.143   \n",
       "2020-12-01              87.857         109.0         0.0                0.143   \n",
       "2020-12-01            2145.429       12306.0        48.0               39.286   \n",
       "\n",
       "            total_cases_per_million  ...  female_smokers  male_smokers  \\\n",
       "date                                 ...                                 \n",
       "2020-12-01                31569.913  ...            28.4          30.9   \n",
       "2020-12-01                14457.355  ...             NaN           NaN   \n",
       "2020-12-01                 1824.042  ...             NaN           NaN   \n",
       "2020-12-01                  846.838  ...             NaN           NaN   \n",
       "2020-12-01                13471.970  ...             NaN           NaN   \n",
       "\n",
       "            handwashing_facilities  hospital_beds_per_thousand  \\\n",
       "date                                                             \n",
       "2020-12-01                     NaN                        7.37   \n",
       "2020-12-01                  90.083                        1.30   \n",
       "2020-12-01                  15.950                         NaN   \n",
       "2020-12-01                     NaN                         NaN   \n",
       "2020-12-01                  94.576                        1.40   \n",
       "\n",
       "            life_expectancy  human_development_index  \\\n",
       "date                                                   \n",
       "2020-12-01            81.54                    0.922   \n",
       "2020-12-01            74.62                    0.716   \n",
       "2020-12-01            64.92                    0.546   \n",
       "2020-12-01            84.86                    0.949   \n",
       "2020-12-01            70.60                    0.674   \n",
       "\n",
       "            excess_mortality_cumulative_absolute  excess_mortality_cumulative  \\\n",
       "date                                                                            \n",
       "2020-12-01                                   NaN                          NaN   \n",
       "2020-12-01                                   NaN                          NaN   \n",
       "2020-12-01                                   NaN                          NaN   \n",
       "2020-12-01                                   NaN                          NaN   \n",
       "2020-12-01                                   NaN                          NaN   \n",
       "\n",
       "            excess_mortality  excess_mortality_cumulative_per_million  \n",
       "date                                                                   \n",
       "2020-12-01               NaN                                      NaN  \n",
       "2020-12-01               NaN                                      NaN  \n",
       "2020-12-01               NaN                                      NaN  \n",
       "2020-12-01               NaN                                      NaN  \n",
       "2020-12-01               NaN                                      NaN  \n",
       "\n",
       "[5 rows x 64 columns]"
      ]
     },
     "execution_count": 15,
     "metadata": {},
     "output_type": "execute_result"
    }
   ],
   "source": [
    "after_vax.head()"
   ]
  },
  {
   "cell_type": "code",
   "execution_count": 16,
   "metadata": {},
   "outputs": [
    {
     "data": {
      "text/plain": [
       "['continent',\n",
       " 'location',\n",
       " 'date',\n",
       " 'total_cases',\n",
       " 'new_cases',\n",
       " 'new_cases_smoothed',\n",
       " 'total_deaths',\n",
       " 'new_deaths',\n",
       " 'new_deaths_smoothed',\n",
       " 'total_cases_per_million',\n",
       " 'new_cases_per_million',\n",
       " 'new_cases_smoothed_per_million',\n",
       " 'total_deaths_per_million',\n",
       " 'new_deaths_per_million',\n",
       " 'new_deaths_smoothed_per_million',\n",
       " 'reproduction_rate',\n",
       " 'icu_patients',\n",
       " 'icu_patients_per_million',\n",
       " 'hosp_patients',\n",
       " 'hosp_patients_per_million',\n",
       " 'weekly_icu_admissions',\n",
       " 'weekly_icu_admissions_per_million',\n",
       " 'weekly_hosp_admissions',\n",
       " 'weekly_hosp_admissions_per_million',\n",
       " 'new_tests',\n",
       " 'total_tests',\n",
       " 'total_tests_per_thousand',\n",
       " 'new_tests_per_thousand',\n",
       " 'new_tests_smoothed',\n",
       " 'new_tests_smoothed_per_thousand',\n",
       " 'positive_rate',\n",
       " 'tests_per_case',\n",
       " 'tests_units',\n",
       " 'stringency_index',\n",
       " 'population',\n",
       " 'population_density',\n",
       " 'median_age',\n",
       " 'aged_65_older',\n",
       " 'aged_70_older',\n",
       " 'gdp_per_capita',\n",
       " 'extreme_poverty',\n",
       " 'cardiovasc_death_rate',\n",
       " 'diabetes_prevalence',\n",
       " 'female_smokers',\n",
       " 'male_smokers',\n",
       " 'handwashing_facilities',\n",
       " 'hospital_beds_per_thousand',\n",
       " 'life_expectancy',\n",
       " 'human_development_index',\n",
       " 'excess_mortality_cumulative_absolute',\n",
       " 'excess_mortality_cumulative',\n",
       " 'excess_mortality',\n",
       " 'excess_mortality_cumulative_per_million']"
      ]
     },
     "execution_count": 16,
     "metadata": {},
     "output_type": "execute_result"
    }
   ],
   "source": [
    "#removing vaccination columns from before_vax dataset\n",
    "\n",
    "before_vax.drop(before_vax.iloc[:, 33:44], axis = 1, inplace = True)\n",
    "list(before_vax.columns)"
   ]
  },
  {
   "cell_type": "code",
   "execution_count": 17,
   "metadata": {},
   "outputs": [
    {
     "data": {
      "text/plain": [
       "1020247"
      ]
     },
     "execution_count": 17,
     "metadata": {},
     "output_type": "execute_result"
    }
   ],
   "source": [
    "before_vax.isnull().sum().sum()"
   ]
  },
  {
   "cell_type": "code",
   "execution_count": 18,
   "metadata": {},
   "outputs": [
    {
     "data": {
      "text/plain": [
       "0"
      ]
     },
     "execution_count": 18,
     "metadata": {},
     "output_type": "execute_result"
    }
   ],
   "source": [
    "#removing all the null values where there's a null for total cases and replacing the rest with 0s\n",
    "\n",
    "before_vax.dropna(axis=0, subset=['total_cases'], inplace=True)\n",
    "before_vax.fillna(0, inplace=True)\n",
    "before_vax.isnull().sum().sum()"
   ]
  },
  {
   "cell_type": "code",
   "execution_count": 19,
   "metadata": {},
   "outputs": [
    {
     "data": {
      "text/plain": [
       "1835181"
      ]
     },
     "execution_count": 19,
     "metadata": {},
     "output_type": "execute_result"
    }
   ],
   "source": [
    "after_vax.isnull().sum().sum()"
   ]
  },
  {
   "cell_type": "code",
   "execution_count": 20,
   "metadata": {},
   "outputs": [
    {
     "data": {
      "text/plain": [
       "0"
      ]
     },
     "execution_count": 20,
     "metadata": {},
     "output_type": "execute_result"
    }
   ],
   "source": [
    "#removing all the null values where there's a null for total cases and replacing the rest with 0s\n",
    "\n",
    "after_vax.dropna(axis=0, subset=['total_cases'], inplace=True)\n",
    "after_vax.fillna(0, inplace=True)\n",
    "after_vax.isnull().sum().sum()"
   ]
  },
  {
   "cell_type": "code",
   "execution_count": 21,
   "metadata": {},
   "outputs": [
    {
     "data": {
      "text/plain": [
       "(53381, 53)"
      ]
     },
     "execution_count": 21,
     "metadata": {},
     "output_type": "execute_result"
    }
   ],
   "source": [
    "before_vax.shape"
   ]
  },
  {
   "cell_type": "code",
   "execution_count": 22,
   "metadata": {},
   "outputs": [
    {
     "data": {
      "text/plain": [
       "(62137, 64)"
      ]
     },
     "execution_count": 22,
     "metadata": {},
     "output_type": "execute_result"
    }
   ],
   "source": [
    "after_vax.shape"
   ]
  },
  {
   "cell_type": "markdown",
   "metadata": {},
   "source": [
    "Now we'll create dummy variables for the categorical columns in before and after vaccination datasets and save them as seperate datasets.\n",
    "First we'll create dummy variables for the continent varaible and tests_units removing the location varaibale which has countries as it's values."
   ]
  },
  {
   "cell_type": "code",
   "execution_count": 23,
   "metadata": {},
   "outputs": [
    {
     "data": {
      "text/plain": [
       "['date',\n",
       " 'total_cases',\n",
       " 'new_cases',\n",
       " 'new_cases_smoothed',\n",
       " 'total_deaths',\n",
       " 'new_deaths',\n",
       " 'new_deaths_smoothed',\n",
       " 'total_cases_per_million',\n",
       " 'new_cases_per_million',\n",
       " 'new_cases_smoothed_per_million',\n",
       " 'total_deaths_per_million',\n",
       " 'new_deaths_per_million',\n",
       " 'new_deaths_smoothed_per_million',\n",
       " 'reproduction_rate',\n",
       " 'icu_patients',\n",
       " 'icu_patients_per_million',\n",
       " 'hosp_patients',\n",
       " 'hosp_patients_per_million',\n",
       " 'weekly_icu_admissions',\n",
       " 'weekly_icu_admissions_per_million',\n",
       " 'weekly_hosp_admissions',\n",
       " 'weekly_hosp_admissions_per_million',\n",
       " 'new_tests',\n",
       " 'total_tests',\n",
       " 'total_tests_per_thousand',\n",
       " 'new_tests_per_thousand',\n",
       " 'new_tests_smoothed',\n",
       " 'new_tests_smoothed_per_thousand',\n",
       " 'positive_rate',\n",
       " 'tests_per_case',\n",
       " 'stringency_index',\n",
       " 'population',\n",
       " 'population_density',\n",
       " 'median_age',\n",
       " 'aged_65_older',\n",
       " 'aged_70_older',\n",
       " 'gdp_per_capita',\n",
       " 'extreme_poverty',\n",
       " 'cardiovasc_death_rate',\n",
       " 'diabetes_prevalence',\n",
       " 'female_smokers',\n",
       " 'male_smokers',\n",
       " 'handwashing_facilities',\n",
       " 'hospital_beds_per_thousand',\n",
       " 'life_expectancy',\n",
       " 'human_development_index',\n",
       " 'excess_mortality_cumulative_absolute',\n",
       " 'excess_mortality_cumulative',\n",
       " 'excess_mortality',\n",
       " 'excess_mortality_cumulative_per_million',\n",
       " 'continent_Africa',\n",
       " 'continent_Asia',\n",
       " 'continent_Europe',\n",
       " 'continent_North America',\n",
       " 'continent_Oceania',\n",
       " 'continent_South America',\n",
       " 'continent_World',\n",
       " 'tests_units_people tested',\n",
       " 'tests_units_samples tested',\n",
       " 'tests_units_tests performed',\n",
       " 'tests_units_units unclear']"
      ]
     },
     "execution_count": 23,
     "metadata": {},
     "output_type": "execute_result"
    }
   ],
   "source": [
    "# before vaccination \n",
    "\n",
    "cont_dummy_before_vax = pd.get_dummies(data= before_vax, columns=['continent', 'tests_units'])\n",
    "\n",
    "cont_dummy_before_vax.drop(cont_dummy_before_vax.columns[[0]], axis =1, inplace = True)\n",
    "\n",
    "list(cont_dummy_before_vax.columns)"
   ]
  },
  {
   "cell_type": "code",
   "execution_count": 24,
   "metadata": {},
   "outputs": [
    {
     "data": {
      "text/plain": [
       "['date',\n",
       " 'total_cases',\n",
       " 'new_cases',\n",
       " 'new_cases_smoothed',\n",
       " 'total_deaths',\n",
       " 'new_deaths',\n",
       " 'new_deaths_smoothed',\n",
       " 'total_cases_per_million',\n",
       " 'new_cases_per_million',\n",
       " 'new_cases_smoothed_per_million',\n",
       " 'total_deaths_per_million',\n",
       " 'new_deaths_per_million',\n",
       " 'new_deaths_smoothed_per_million',\n",
       " 'reproduction_rate',\n",
       " 'icu_patients',\n",
       " 'icu_patients_per_million',\n",
       " 'hosp_patients',\n",
       " 'hosp_patients_per_million',\n",
       " 'weekly_icu_admissions',\n",
       " 'weekly_icu_admissions_per_million',\n",
       " 'weekly_hosp_admissions',\n",
       " 'weekly_hosp_admissions_per_million',\n",
       " 'new_tests',\n",
       " 'total_tests',\n",
       " 'total_tests_per_thousand',\n",
       " 'new_tests_per_thousand',\n",
       " 'new_tests_smoothed',\n",
       " 'new_tests_smoothed_per_thousand',\n",
       " 'positive_rate',\n",
       " 'tests_per_case',\n",
       " 'total_vaccinations',\n",
       " 'people_vaccinated',\n",
       " 'people_fully_vaccinated',\n",
       " 'total_boosters',\n",
       " 'new_vaccinations',\n",
       " 'new_vaccinations_smoothed',\n",
       " 'total_vaccinations_per_hundred',\n",
       " 'people_vaccinated_per_hundred',\n",
       " 'people_fully_vaccinated_per_hundred',\n",
       " 'total_boosters_per_hundred',\n",
       " 'new_vaccinations_smoothed_per_million',\n",
       " 'stringency_index',\n",
       " 'population',\n",
       " 'population_density',\n",
       " 'median_age',\n",
       " 'aged_65_older',\n",
       " 'aged_70_older',\n",
       " 'gdp_per_capita',\n",
       " 'extreme_poverty',\n",
       " 'cardiovasc_death_rate',\n",
       " 'diabetes_prevalence',\n",
       " 'female_smokers',\n",
       " 'male_smokers',\n",
       " 'handwashing_facilities',\n",
       " 'hospital_beds_per_thousand',\n",
       " 'life_expectancy',\n",
       " 'human_development_index',\n",
       " 'excess_mortality_cumulative_absolute',\n",
       " 'excess_mortality_cumulative',\n",
       " 'excess_mortality',\n",
       " 'excess_mortality_cumulative_per_million',\n",
       " 'continent_Africa',\n",
       " 'continent_Asia',\n",
       " 'continent_Europe',\n",
       " 'continent_North America',\n",
       " 'continent_Oceania',\n",
       " 'continent_South America',\n",
       " 'continent_World',\n",
       " 'tests_units_people tested',\n",
       " 'tests_units_samples tested',\n",
       " 'tests_units_tests performed',\n",
       " 'tests_units_units unclear']"
      ]
     },
     "execution_count": 24,
     "metadata": {},
     "output_type": "execute_result"
    }
   ],
   "source": [
    "# after vaccination\n",
    "cont_dummy_after_vax = pd.get_dummies(data= after_vax, columns=['continent', 'tests_units'])\n",
    "\n",
    "cont_dummy_after_vax.drop(cont_dummy_after_vax.columns[[0]], axis =1, inplace = True)\n",
    "\n",
    "list(cont_dummy_after_vax.columns)"
   ]
  },
  {
   "cell_type": "code",
   "execution_count": 25,
   "metadata": {},
   "outputs": [
    {
     "data": {
      "text/plain": [
       "['date',\n",
       " 'total_cases',\n",
       " 'new_cases',\n",
       " 'new_cases_smoothed',\n",
       " 'total_deaths',\n",
       " 'new_deaths',\n",
       " 'new_deaths_smoothed',\n",
       " 'total_cases_per_million',\n",
       " 'new_cases_per_million',\n",
       " 'new_cases_smoothed_per_million',\n",
       " 'total_deaths_per_million',\n",
       " 'new_deaths_per_million',\n",
       " 'new_deaths_smoothed_per_million',\n",
       " 'reproduction_rate',\n",
       " 'icu_patients',\n",
       " 'icu_patients_per_million',\n",
       " 'hosp_patients',\n",
       " 'hosp_patients_per_million',\n",
       " 'weekly_icu_admissions',\n",
       " 'weekly_icu_admissions_per_million',\n",
       " 'weekly_hosp_admissions',\n",
       " 'weekly_hosp_admissions_per_million',\n",
       " 'new_tests',\n",
       " 'total_tests',\n",
       " 'total_tests_per_thousand',\n",
       " 'new_tests_per_thousand',\n",
       " 'new_tests_smoothed',\n",
       " 'new_tests_smoothed_per_thousand',\n",
       " 'positive_rate',\n",
       " 'tests_per_case',\n",
       " 'stringency_index',\n",
       " 'population',\n",
       " 'population_density',\n",
       " 'median_age',\n",
       " 'aged_65_older',\n",
       " 'aged_70_older',\n",
       " 'gdp_per_capita',\n",
       " 'extreme_poverty',\n",
       " 'cardiovasc_death_rate',\n",
       " 'diabetes_prevalence',\n",
       " 'female_smokers',\n",
       " 'male_smokers',\n",
       " 'handwashing_facilities',\n",
       " 'hospital_beds_per_thousand',\n",
       " 'life_expectancy',\n",
       " 'human_development_index',\n",
       " 'excess_mortality_cumulative_absolute',\n",
       " 'excess_mortality_cumulative',\n",
       " 'excess_mortality',\n",
       " 'excess_mortality_cumulative_per_million',\n",
       " 'location_Afghanistan',\n",
       " 'location_Africa',\n",
       " 'location_Albania',\n",
       " 'location_Algeria',\n",
       " 'location_Andorra',\n",
       " 'location_Angola',\n",
       " 'location_Antigua and Barbuda',\n",
       " 'location_Argentina',\n",
       " 'location_Armenia',\n",
       " 'location_Asia',\n",
       " 'location_Australia',\n",
       " 'location_Austria',\n",
       " 'location_Azerbaijan',\n",
       " 'location_Bahamas',\n",
       " 'location_Bahrain',\n",
       " 'location_Bangladesh',\n",
       " 'location_Barbados',\n",
       " 'location_Belarus',\n",
       " 'location_Belgium',\n",
       " 'location_Belize',\n",
       " 'location_Benin',\n",
       " 'location_Bhutan',\n",
       " 'location_Bolivia',\n",
       " 'location_Bosnia and Herzegovina',\n",
       " 'location_Botswana',\n",
       " 'location_Brazil',\n",
       " 'location_Brunei',\n",
       " 'location_Bulgaria',\n",
       " 'location_Burkina Faso',\n",
       " 'location_Burundi',\n",
       " 'location_Cambodia',\n",
       " 'location_Cameroon',\n",
       " 'location_Canada',\n",
       " 'location_Cape Verde',\n",
       " 'location_Central African Republic',\n",
       " 'location_Chad',\n",
       " 'location_Chile',\n",
       " 'location_China',\n",
       " 'location_Colombia',\n",
       " 'location_Comoros',\n",
       " 'location_Congo',\n",
       " 'location_Costa Rica',\n",
       " \"location_Cote d'Ivoire\",\n",
       " 'location_Croatia',\n",
       " 'location_Cuba',\n",
       " 'location_Cyprus',\n",
       " 'location_Czechia',\n",
       " 'location_Democratic Republic of Congo',\n",
       " 'location_Denmark',\n",
       " 'location_Djibouti',\n",
       " 'location_Dominica',\n",
       " 'location_Dominican Republic',\n",
       " 'location_Ecuador',\n",
       " 'location_Egypt',\n",
       " 'location_El Salvador',\n",
       " 'location_Equatorial Guinea',\n",
       " 'location_Eritrea',\n",
       " 'location_Estonia',\n",
       " 'location_Eswatini',\n",
       " 'location_Ethiopia',\n",
       " 'location_Europe',\n",
       " 'location_Fiji',\n",
       " 'location_Finland',\n",
       " 'location_France',\n",
       " 'location_Gabon',\n",
       " 'location_Gambia',\n",
       " 'location_Georgia',\n",
       " 'location_Germany',\n",
       " 'location_Ghana',\n",
       " 'location_Greece',\n",
       " 'location_Grenada',\n",
       " 'location_Guatemala',\n",
       " 'location_Guinea',\n",
       " 'location_Guinea-Bissau',\n",
       " 'location_Guyana',\n",
       " 'location_Haiti',\n",
       " 'location_Honduras',\n",
       " 'location_Hong Kong',\n",
       " 'location_Hungary',\n",
       " 'location_Iceland',\n",
       " 'location_India',\n",
       " 'location_Indonesia',\n",
       " 'location_Iran',\n",
       " 'location_Iraq',\n",
       " 'location_Ireland',\n",
       " 'location_Israel',\n",
       " 'location_Italy',\n",
       " 'location_Jamaica',\n",
       " 'location_Japan',\n",
       " 'location_Jordan',\n",
       " 'location_Kazakhstan',\n",
       " 'location_Kenya',\n",
       " 'location_Kosovo',\n",
       " 'location_Kuwait',\n",
       " 'location_Kyrgyzstan',\n",
       " 'location_Laos',\n",
       " 'location_Latvia',\n",
       " 'location_Lebanon',\n",
       " 'location_Lesotho',\n",
       " 'location_Liberia',\n",
       " 'location_Libya',\n",
       " 'location_Liechtenstein',\n",
       " 'location_Lithuania',\n",
       " 'location_Luxembourg',\n",
       " 'location_Madagascar',\n",
       " 'location_Malawi',\n",
       " 'location_Malaysia',\n",
       " 'location_Maldives',\n",
       " 'location_Mali',\n",
       " 'location_Malta',\n",
       " 'location_Marshall Islands',\n",
       " 'location_Mauritania',\n",
       " 'location_Mauritius',\n",
       " 'location_Mexico',\n",
       " 'location_Moldova',\n",
       " 'location_Monaco',\n",
       " 'location_Mongolia',\n",
       " 'location_Montenegro',\n",
       " 'location_Morocco',\n",
       " 'location_Mozambique',\n",
       " 'location_Myanmar',\n",
       " 'location_Namibia',\n",
       " 'location_Nepal',\n",
       " 'location_Netherlands',\n",
       " 'location_New Zealand',\n",
       " 'location_Nicaragua',\n",
       " 'location_Niger',\n",
       " 'location_Nigeria',\n",
       " 'location_North America',\n",
       " 'location_North Macedonia',\n",
       " 'location_Norway',\n",
       " 'location_Oceania',\n",
       " 'location_Oman',\n",
       " 'location_Pakistan',\n",
       " 'location_Palestine',\n",
       " 'location_Panama',\n",
       " 'location_Papua New Guinea',\n",
       " 'location_Paraguay',\n",
       " 'location_Peru',\n",
       " 'location_Philippines',\n",
       " 'location_Poland',\n",
       " 'location_Portugal',\n",
       " 'location_Qatar',\n",
       " 'location_Romania',\n",
       " 'location_Russia',\n",
       " 'location_Rwanda',\n",
       " 'location_Saint Kitts and Nevis',\n",
       " 'location_Saint Lucia',\n",
       " 'location_Saint Vincent and the Grenadines',\n",
       " 'location_Samoa',\n",
       " 'location_San Marino',\n",
       " 'location_Sao Tome and Principe',\n",
       " 'location_Saudi Arabia',\n",
       " 'location_Senegal',\n",
       " 'location_Serbia',\n",
       " 'location_Seychelles',\n",
       " 'location_Sierra Leone',\n",
       " 'location_Singapore',\n",
       " 'location_Slovakia',\n",
       " 'location_Slovenia',\n",
       " 'location_Solomon Islands',\n",
       " 'location_Somalia',\n",
       " 'location_South Africa',\n",
       " 'location_South America',\n",
       " 'location_South Korea',\n",
       " 'location_South Sudan',\n",
       " 'location_Spain',\n",
       " 'location_Sri Lanka',\n",
       " 'location_Sudan',\n",
       " 'location_Suriname',\n",
       " 'location_Sweden',\n",
       " 'location_Switzerland',\n",
       " 'location_Syria',\n",
       " 'location_Taiwan',\n",
       " 'location_Tajikistan',\n",
       " 'location_Tanzania',\n",
       " 'location_Thailand',\n",
       " 'location_Timor',\n",
       " 'location_Togo',\n",
       " 'location_Trinidad and Tobago',\n",
       " 'location_Tunisia',\n",
       " 'location_Turkey',\n",
       " 'location_Uganda',\n",
       " 'location_Ukraine',\n",
       " 'location_United Arab Emirates',\n",
       " 'location_United Kingdom',\n",
       " 'location_United States',\n",
       " 'location_Uruguay',\n",
       " 'location_Uzbekistan',\n",
       " 'location_Vanuatu',\n",
       " 'location_Vatican',\n",
       " 'location_Venezuela',\n",
       " 'location_Vietnam',\n",
       " 'location_World',\n",
       " 'location_Yemen',\n",
       " 'location_Zambia',\n",
       " 'location_Zimbabwe',\n",
       " 'tests_units_people tested',\n",
       " 'tests_units_samples tested',\n",
       " 'tests_units_tests performed',\n",
       " 'tests_units_units unclear']"
      ]
     },
     "execution_count": 25,
     "metadata": {},
     "output_type": "execute_result"
    }
   ],
   "source": [
    "#################### CREATING DUMMIES FOR COUNTRIES##########################\n",
    "\n",
    "# before vaccination \n",
    "\n",
    "country_dummy_before_vax = pd.get_dummies(data= before_vax, columns=['location', 'tests_units'])\n",
    "\n",
    "country_dummy_before_vax.drop(country_dummy_before_vax.columns[[0]], axis =1, inplace = True)\n",
    "\n",
    "list(country_dummy_before_vax.columns)"
   ]
  },
  {
   "cell_type": "code",
   "execution_count": 26,
   "metadata": {},
   "outputs": [
    {
     "data": {
      "text/plain": [
       "['date',\n",
       " 'total_cases',\n",
       " 'new_cases',\n",
       " 'new_cases_smoothed',\n",
       " 'total_deaths',\n",
       " 'new_deaths',\n",
       " 'new_deaths_smoothed',\n",
       " 'total_cases_per_million',\n",
       " 'new_cases_per_million',\n",
       " 'new_cases_smoothed_per_million',\n",
       " 'total_deaths_per_million',\n",
       " 'new_deaths_per_million',\n",
       " 'new_deaths_smoothed_per_million',\n",
       " 'reproduction_rate',\n",
       " 'icu_patients',\n",
       " 'icu_patients_per_million',\n",
       " 'hosp_patients',\n",
       " 'hosp_patients_per_million',\n",
       " 'weekly_icu_admissions',\n",
       " 'weekly_icu_admissions_per_million',\n",
       " 'weekly_hosp_admissions',\n",
       " 'weekly_hosp_admissions_per_million',\n",
       " 'new_tests',\n",
       " 'total_tests',\n",
       " 'total_tests_per_thousand',\n",
       " 'new_tests_per_thousand',\n",
       " 'new_tests_smoothed',\n",
       " 'new_tests_smoothed_per_thousand',\n",
       " 'positive_rate',\n",
       " 'tests_per_case',\n",
       " 'total_vaccinations',\n",
       " 'people_vaccinated',\n",
       " 'people_fully_vaccinated',\n",
       " 'total_boosters',\n",
       " 'new_vaccinations',\n",
       " 'new_vaccinations_smoothed',\n",
       " 'total_vaccinations_per_hundred',\n",
       " 'people_vaccinated_per_hundred',\n",
       " 'people_fully_vaccinated_per_hundred',\n",
       " 'total_boosters_per_hundred',\n",
       " 'new_vaccinations_smoothed_per_million',\n",
       " 'stringency_index',\n",
       " 'population',\n",
       " 'population_density',\n",
       " 'median_age',\n",
       " 'aged_65_older',\n",
       " 'aged_70_older',\n",
       " 'gdp_per_capita',\n",
       " 'extreme_poverty',\n",
       " 'cardiovasc_death_rate',\n",
       " 'diabetes_prevalence',\n",
       " 'female_smokers',\n",
       " 'male_smokers',\n",
       " 'handwashing_facilities',\n",
       " 'hospital_beds_per_thousand',\n",
       " 'life_expectancy',\n",
       " 'human_development_index',\n",
       " 'excess_mortality_cumulative_absolute',\n",
       " 'excess_mortality_cumulative',\n",
       " 'excess_mortality',\n",
       " 'excess_mortality_cumulative_per_million',\n",
       " 'location_Afghanistan',\n",
       " 'location_Africa',\n",
       " 'location_Albania',\n",
       " 'location_Algeria',\n",
       " 'location_Andorra',\n",
       " 'location_Angola',\n",
       " 'location_Antigua and Barbuda',\n",
       " 'location_Argentina',\n",
       " 'location_Armenia',\n",
       " 'location_Asia',\n",
       " 'location_Australia',\n",
       " 'location_Austria',\n",
       " 'location_Azerbaijan',\n",
       " 'location_Bahamas',\n",
       " 'location_Bahrain',\n",
       " 'location_Bangladesh',\n",
       " 'location_Barbados',\n",
       " 'location_Belarus',\n",
       " 'location_Belgium',\n",
       " 'location_Belize',\n",
       " 'location_Benin',\n",
       " 'location_Bhutan',\n",
       " 'location_Bolivia',\n",
       " 'location_Bosnia and Herzegovina',\n",
       " 'location_Botswana',\n",
       " 'location_Brazil',\n",
       " 'location_Brunei',\n",
       " 'location_Bulgaria',\n",
       " 'location_Burkina Faso',\n",
       " 'location_Burundi',\n",
       " 'location_Cambodia',\n",
       " 'location_Cameroon',\n",
       " 'location_Canada',\n",
       " 'location_Cape Verde',\n",
       " 'location_Central African Republic',\n",
       " 'location_Chad',\n",
       " 'location_Chile',\n",
       " 'location_China',\n",
       " 'location_Colombia',\n",
       " 'location_Comoros',\n",
       " 'location_Congo',\n",
       " 'location_Costa Rica',\n",
       " \"location_Cote d'Ivoire\",\n",
       " 'location_Croatia',\n",
       " 'location_Cuba',\n",
       " 'location_Cyprus',\n",
       " 'location_Czechia',\n",
       " 'location_Democratic Republic of Congo',\n",
       " 'location_Denmark',\n",
       " 'location_Djibouti',\n",
       " 'location_Dominica',\n",
       " 'location_Dominican Republic',\n",
       " 'location_Ecuador',\n",
       " 'location_Egypt',\n",
       " 'location_El Salvador',\n",
       " 'location_Equatorial Guinea',\n",
       " 'location_Eritrea',\n",
       " 'location_Estonia',\n",
       " 'location_Eswatini',\n",
       " 'location_Ethiopia',\n",
       " 'location_Europe',\n",
       " 'location_Fiji',\n",
       " 'location_Finland',\n",
       " 'location_France',\n",
       " 'location_Gabon',\n",
       " 'location_Gambia',\n",
       " 'location_Georgia',\n",
       " 'location_Germany',\n",
       " 'location_Ghana',\n",
       " 'location_Greece',\n",
       " 'location_Grenada',\n",
       " 'location_Guatemala',\n",
       " 'location_Guinea',\n",
       " 'location_Guinea-Bissau',\n",
       " 'location_Guyana',\n",
       " 'location_Haiti',\n",
       " 'location_Honduras',\n",
       " 'location_Hong Kong',\n",
       " 'location_Hungary',\n",
       " 'location_Iceland',\n",
       " 'location_India',\n",
       " 'location_Indonesia',\n",
       " 'location_Iran',\n",
       " 'location_Iraq',\n",
       " 'location_Ireland',\n",
       " 'location_Israel',\n",
       " 'location_Italy',\n",
       " 'location_Jamaica',\n",
       " 'location_Japan',\n",
       " 'location_Jordan',\n",
       " 'location_Kazakhstan',\n",
       " 'location_Kenya',\n",
       " 'location_Kiribati',\n",
       " 'location_Kosovo',\n",
       " 'location_Kuwait',\n",
       " 'location_Kyrgyzstan',\n",
       " 'location_Laos',\n",
       " 'location_Latvia',\n",
       " 'location_Lebanon',\n",
       " 'location_Lesotho',\n",
       " 'location_Liberia',\n",
       " 'location_Libya',\n",
       " 'location_Liechtenstein',\n",
       " 'location_Lithuania',\n",
       " 'location_Luxembourg',\n",
       " 'location_Madagascar',\n",
       " 'location_Malawi',\n",
       " 'location_Malaysia',\n",
       " 'location_Maldives',\n",
       " 'location_Mali',\n",
       " 'location_Malta',\n",
       " 'location_Marshall Islands',\n",
       " 'location_Mauritania',\n",
       " 'location_Mauritius',\n",
       " 'location_Mexico',\n",
       " 'location_Micronesia (country)',\n",
       " 'location_Moldova',\n",
       " 'location_Monaco',\n",
       " 'location_Mongolia',\n",
       " 'location_Montenegro',\n",
       " 'location_Morocco',\n",
       " 'location_Mozambique',\n",
       " 'location_Myanmar',\n",
       " 'location_Namibia',\n",
       " 'location_Nepal',\n",
       " 'location_Netherlands',\n",
       " 'location_New Zealand',\n",
       " 'location_Nicaragua',\n",
       " 'location_Niger',\n",
       " 'location_Nigeria',\n",
       " 'location_North America',\n",
       " 'location_North Macedonia',\n",
       " 'location_Norway',\n",
       " 'location_Oceania',\n",
       " 'location_Oman',\n",
       " 'location_Pakistan',\n",
       " 'location_Palau',\n",
       " 'location_Palestine',\n",
       " 'location_Panama',\n",
       " 'location_Papua New Guinea',\n",
       " 'location_Paraguay',\n",
       " 'location_Peru',\n",
       " 'location_Philippines',\n",
       " 'location_Poland',\n",
       " 'location_Portugal',\n",
       " 'location_Qatar',\n",
       " 'location_Romania',\n",
       " 'location_Russia',\n",
       " 'location_Rwanda',\n",
       " 'location_Saint Kitts and Nevis',\n",
       " 'location_Saint Lucia',\n",
       " 'location_Saint Vincent and the Grenadines',\n",
       " 'location_Samoa',\n",
       " 'location_San Marino',\n",
       " 'location_Sao Tome and Principe',\n",
       " 'location_Saudi Arabia',\n",
       " 'location_Senegal',\n",
       " 'location_Serbia',\n",
       " 'location_Seychelles',\n",
       " 'location_Sierra Leone',\n",
       " 'location_Singapore',\n",
       " 'location_Slovakia',\n",
       " 'location_Slovenia',\n",
       " 'location_Solomon Islands',\n",
       " 'location_Somalia',\n",
       " 'location_South Africa',\n",
       " 'location_South America',\n",
       " 'location_South Korea',\n",
       " 'location_South Sudan',\n",
       " 'location_Spain',\n",
       " 'location_Sri Lanka',\n",
       " 'location_Sudan',\n",
       " 'location_Suriname',\n",
       " 'location_Sweden',\n",
       " 'location_Switzerland',\n",
       " 'location_Syria',\n",
       " 'location_Taiwan',\n",
       " 'location_Tajikistan',\n",
       " 'location_Tanzania',\n",
       " 'location_Thailand',\n",
       " 'location_Timor',\n",
       " 'location_Togo',\n",
       " 'location_Trinidad and Tobago',\n",
       " 'location_Tunisia',\n",
       " 'location_Turkey',\n",
       " 'location_Uganda',\n",
       " 'location_Ukraine',\n",
       " 'location_United Arab Emirates',\n",
       " 'location_United Kingdom',\n",
       " 'location_United States',\n",
       " 'location_Uruguay',\n",
       " 'location_Uzbekistan',\n",
       " 'location_Vanuatu',\n",
       " 'location_Vatican',\n",
       " 'location_Venezuela',\n",
       " 'location_Vietnam',\n",
       " 'location_World',\n",
       " 'location_Yemen',\n",
       " 'location_Zambia',\n",
       " 'location_Zimbabwe',\n",
       " 'tests_units_people tested',\n",
       " 'tests_units_samples tested',\n",
       " 'tests_units_tests performed',\n",
       " 'tests_units_units unclear']"
      ]
     },
     "execution_count": 26,
     "metadata": {},
     "output_type": "execute_result"
    }
   ],
   "source": [
    "# after vaccination\n",
    "country_dummy_after_vax = pd.get_dummies(data= after_vax, columns=['location', 'tests_units'])\n",
    "\n",
    "country_dummy_after_vax.drop(country_dummy_after_vax.columns[[0]], axis =1, inplace = True)\n",
    "list(country_dummy_after_vax.columns)"
   ]
  },
  {
   "cell_type": "code",
   "execution_count": 27,
   "metadata": {},
   "outputs": [
    {
     "data": {
      "text/plain": [
       "['Date',\n",
       " 'FIPS',\n",
       " 'MMWR_week',\n",
       " 'Recip_County',\n",
       " 'Recip_State',\n",
       " 'Series_Complete_Pop_Pct',\n",
       " 'Series_Complete_Yes',\n",
       " 'Series_Complete_12Plus',\n",
       " 'Series_Complete_12PlusPop_Pct',\n",
       " 'Series_Complete_18Plus',\n",
       " 'Series_Complete_18PlusPop_Pct',\n",
       " 'Series_Complete_65Plus',\n",
       " 'Series_Complete_65PlusPop_Pct',\n",
       " 'Completeness_pct',\n",
       " 'Administered_Dose1_Recip',\n",
       " 'Administered_Dose1_Pop_Pct',\n",
       " 'Administered_Dose1_Recip_12Plus',\n",
       " 'Administered_Dose1_Recip_12PlusPop_Pct',\n",
       " 'Administered_Dose1_Recip_18Plus',\n",
       " 'Administered_Dose1_Recip_18PlusPop_Pct',\n",
       " 'Administered_Dose1_Recip_65Plus',\n",
       " 'Administered_Dose1_Recip_65PlusPop_Pct',\n",
       " 'SVI_CTGY',\n",
       " 'Series_Complete_Pop_Pct_SVI',\n",
       " 'Series_Complete_12PlusPop_Pct_SVI',\n",
       " 'Series_Complete_18PlusPop_Pct_SVI',\n",
       " 'Series_Complete_65PlusPop_Pct_SVI',\n",
       " 'Metro_status',\n",
       " 'Series_Complete_Pop_Pct_UR_Equity',\n",
       " 'Series_Complete_12PlusPop_Pct_UR_Equity',\n",
       " 'Series_Complete_18PlusPop_Pct_UR_Equity',\n",
       " 'Series_Complete_65PlusPop_Pct_UR_Equity']"
      ]
     },
     "execution_count": 27,
     "metadata": {},
     "output_type": "execute_result"
    }
   ],
   "source": [
    "# Cleaning Dataset-3\n",
    "\n",
    "Dataset_3 = pd.read_csv(r'C:\\Users\\burq_\\Downloads\\DAAN 888-Design and Implementation of Analytics system\\DAAN 888 Datasets\\Final datasets\\Dataset-3 COVID-19_Vaccinations_in_the_United_States_County.csv')\n",
    "\n",
    "list(Dataset_3.columns)\n"
   ]
  },
  {
   "cell_type": "code",
   "execution_count": 28,
   "metadata": {},
   "outputs": [
    {
     "data": {
      "text/plain": [
       "['Date',\n",
       " 'MMWR_week',\n",
       " 'Recip_State',\n",
       " 'Series_Complete_Pop_Pct',\n",
       " 'Series_Complete_12PlusPop_Pct',\n",
       " 'Series_Complete_18PlusPop_Pct',\n",
       " 'Series_Complete_65PlusPop_Pct',\n",
       " 'Completeness_pct',\n",
       " 'Administered_Dose1_Pop_Pct',\n",
       " 'Administered_Dose1_Recip_12PlusPop_Pct',\n",
       " 'Administered_Dose1_Recip_18PlusPop_Pct',\n",
       " 'Administered_Dose1_Recip_65PlusPop_Pct']"
      ]
     },
     "execution_count": 28,
     "metadata": {},
     "output_type": "execute_result"
    }
   ],
   "source": [
    "Dataset_3.drop(Dataset_3.columns[[1,3,6,7,9,11,14,16,18,20,22,23,24,25,26,27,28,29,30,31]], axis=1, inplace=True)\n",
    "\n",
    "list(Dataset_3.columns)"
   ]
  },
  {
   "cell_type": "code",
   "execution_count": 29,
   "metadata": {},
   "outputs": [
    {
     "data": {
      "text/plain": [
       "Date                                       object\n",
       "MMWR_week                                   int64\n",
       "Recip_State                                object\n",
       "Series_Complete_Pop_Pct                   float64\n",
       "Series_Complete_12PlusPop_Pct             float64\n",
       "Series_Complete_18PlusPop_Pct             float64\n",
       "Series_Complete_65PlusPop_Pct             float64\n",
       "Completeness_pct                          float64\n",
       "Administered_Dose1_Pop_Pct                float64\n",
       "Administered_Dose1_Recip_12PlusPop_Pct    float64\n",
       "Administered_Dose1_Recip_18PlusPop_Pct    float64\n",
       "Administered_Dose1_Recip_65PlusPop_Pct    float64\n",
       "dtype: object"
      ]
     },
     "execution_count": 29,
     "metadata": {},
     "output_type": "execute_result"
    }
   ],
   "source": [
    "Dataset_3.dtypes"
   ]
  },
  {
   "cell_type": "code",
   "execution_count": 30,
   "metadata": {},
   "outputs": [
    {
     "data": {
      "text/plain": [
       "TX     78496\n",
       "GA     49444\n",
       "VA     41419\n",
       "KY     37394\n",
       "MO     35853\n",
       "KS     32759\n",
       "IL     31829\n",
       "NC     31213\n",
       "IA     30905\n",
       "TN     29666\n",
       "NE     29047\n",
       "IN     28740\n",
       "OH     27503\n",
       "MN     27204\n",
       "MI     25960\n",
       "MS     25651\n",
       "PR     24409\n",
       "OK     24103\n",
       "AR     23485\n",
       "WI     22562\n",
       "PA     21014\n",
       "AL     21013\n",
       "FL     21013\n",
       "SD     20705\n",
       "CO     20088\n",
       "LA     20084\n",
       "NY     19468\n",
       "CA     18234\n",
       "MT     17611\n",
       "WV     17303\n",
       "ND     16687\n",
       "SC     14523\n",
       "ID     13906\n",
       "WA     12362\n",
       "OR     11433\n",
       "NM     10505\n",
       "UT      9269\n",
       "AK      9268\n",
       "MD      7723\n",
       "WY      7416\n",
       "NJ      6796\n",
       "NV      5560\n",
       "ME      5250\n",
       "AZ      4941\n",
       "MA      4635\n",
       "VT      4633\n",
       "NH      3396\n",
       "CT      2778\n",
       "RI      1851\n",
       "HI      1545\n",
       "DE      1233\n",
       "VI      1228\n",
       "DC       614\n",
       "GU       613\n",
       "FM       305\n",
       "UNK      304\n",
       "MP       302\n",
       "AS       300\n",
       "PW       299\n",
       "MH       292\n",
       "Name: Recip_State, dtype: int64"
      ]
     },
     "execution_count": 30,
     "metadata": {},
     "output_type": "execute_result"
    }
   ],
   "source": [
    "#checking the states that are in the dataset and the number of records each has\n",
    "Dataset_3['Recip_State'].value_counts()"
   ]
  },
  {
   "cell_type": "code",
   "execution_count": 31,
   "metadata": {},
   "outputs": [
    {
     "data": {
      "text/plain": [
       "(1014142, 12)"
      ]
     },
     "execution_count": 31,
     "metadata": {},
     "output_type": "execute_result"
    }
   ],
   "source": [
    "Dataset_3.shape"
   ]
  },
  {
   "cell_type": "code",
   "execution_count": 32,
   "metadata": {},
   "outputs": [
    {
     "data": {
      "text/plain": [
       "Date                                          0\n",
       "MMWR_week                                     0\n",
       "Recip_State                                   0\n",
       "Series_Complete_Pop_Pct                       0\n",
       "Series_Complete_12PlusPop_Pct             13906\n",
       "Series_Complete_18PlusPop_Pct                 0\n",
       "Series_Complete_65PlusPop_Pct                 0\n",
       "Completeness_pct                              0\n",
       "Administered_Dose1_Pop_Pct                    0\n",
       "Administered_Dose1_Recip_12PlusPop_Pct    13906\n",
       "Administered_Dose1_Recip_18PlusPop_Pct        0\n",
       "Administered_Dose1_Recip_65PlusPop_Pct        0\n",
       "dtype: int64"
      ]
     },
     "execution_count": 32,
     "metadata": {},
     "output_type": "execute_result"
    }
   ],
   "source": [
    "Dataset_3.isnull().sum()"
   ]
  },
  {
   "cell_type": "code",
   "execution_count": 33,
   "metadata": {},
   "outputs": [],
   "source": [
    "# we only have null values in the columns for 12+ vaccination \n",
    "# That's probably because the vaccination became available later for kids age 12 and up\n",
    "# we will impute it with 0\n",
    "\n",
    "Dataset_3.fillna(0, inplace = True)"
   ]
  },
  {
   "cell_type": "code",
   "execution_count": 34,
   "metadata": {},
   "outputs": [
    {
     "data": {
      "text/plain": [
       "Date                                      0\n",
       "MMWR_week                                 0\n",
       "Recip_State                               0\n",
       "Series_Complete_Pop_Pct                   0\n",
       "Series_Complete_12PlusPop_Pct             0\n",
       "Series_Complete_18PlusPop_Pct             0\n",
       "Series_Complete_65PlusPop_Pct             0\n",
       "Completeness_pct                          0\n",
       "Administered_Dose1_Pop_Pct                0\n",
       "Administered_Dose1_Recip_12PlusPop_Pct    0\n",
       "Administered_Dose1_Recip_18PlusPop_Pct    0\n",
       "Administered_Dose1_Recip_65PlusPop_Pct    0\n",
       "dtype: int64"
      ]
     },
     "execution_count": 34,
     "metadata": {},
     "output_type": "execute_result"
    }
   ],
   "source": [
    "Dataset_3.isnull().sum()"
   ]
  },
  {
   "cell_type": "code",
   "execution_count": 9,
   "metadata": {},
   "outputs": [
    {
     "data": {
      "text/plain": [
       "['case_month',\n",
       " 'res_state',\n",
       " 'state_fips_code',\n",
       " 'res_county',\n",
       " 'county_fips_code',\n",
       " 'age_group',\n",
       " 'sex',\n",
       " 'race',\n",
       " 'ethnicity',\n",
       " 'case_positive_specimen_interval',\n",
       " 'case_onset_interval',\n",
       " 'process',\n",
       " 'exposure_yn',\n",
       " 'current_status',\n",
       " 'symptom_status',\n",
       " 'hosp_yn',\n",
       " 'icu_yn',\n",
       " 'death_yn',\n",
       " 'underlying_conditions_yn']"
      ]
     },
     "execution_count": 9,
     "metadata": {},
     "output_type": "execute_result"
    }
   ],
   "source": [
    "#Cleaning dataset 5\n",
    "\n",
    "Dataset_5 = pd.read_csv(r'C:\\Users\\burq_\\Downloads\\DAAN 888-Design and Implementation of Analytics system\\DAAN 888 Datasets\\Final datasets\\Dataset-5 COVID-19_Case_Surveillance_Public_Use_Data_with_Geography.csv')\n",
    "\n",
    "list(Dataset_5.columns)"
   ]
  },
  {
   "cell_type": "code",
   "execution_count": null,
   "metadata": {},
   "outputs": [],
   "source": [
    "Dataset_5.replace(['Missing', 'Unknown'], 'not specified', inplace=True)"
   ]
  },
  {
   "cell_type": "code",
   "execution_count": 10,
   "metadata": {},
   "outputs": [
    {
     "data": {
      "text/plain": [
       "case_month                               13\n",
       "res_state                               746\n",
       "state_fips_code                         746\n",
       "res_county                          1658731\n",
       "county_fips_code                    1658731\n",
       "age_group                            356631\n",
       "sex                                  943678\n",
       "race                                5365025\n",
       "ethnicity                           6293242\n",
       "case_positive_specimen_interval    21118524\n",
       "case_onset_interval                16011783\n",
       "process                                   0\n",
       "exposure_yn                               0\n",
       "current_status                            0\n",
       "symptom_status                            0\n",
       "hosp_yn                                   0\n",
       "icu_yn                                    0\n",
       "death_yn                            1490254\n",
       "underlying_conditions_yn           27956615\n",
       "dtype: int64"
      ]
     },
     "execution_count": 10,
     "metadata": {},
     "output_type": "execute_result"
    }
   ],
   "source": [
    "Dataset_5.isnull().sum()"
   ]
  },
  {
   "cell_type": "code",
   "execution_count": 11,
   "metadata": {},
   "outputs": [
    {
     "data": {
      "text/plain": [
       "case_month                          object\n",
       "res_state                           object\n",
       "state_fips_code                    float64\n",
       "res_county                          object\n",
       "county_fips_code                   float64\n",
       "age_group                           object\n",
       "sex                                 object\n",
       "race                                object\n",
       "ethnicity                           object\n",
       "case_positive_specimen_interval    float64\n",
       "case_onset_interval                float64\n",
       "process                             object\n",
       "exposure_yn                         object\n",
       "current_status                      object\n",
       "symptom_status                      object\n",
       "hosp_yn                             object\n",
       "icu_yn                              object\n",
       "death_yn                            object\n",
       "underlying_conditions_yn            object\n",
       "dtype: object"
      ]
     },
     "execution_count": 11,
     "metadata": {},
     "output_type": "execute_result"
    }
   ],
   "source": [
    "Dataset_5.dtypes"
   ]
  },
  {
   "cell_type": "code",
   "execution_count": 12,
   "metadata": {},
   "outputs": [
    {
     "data": {
      "text/plain": [
       "['case_month',\n",
       " 'res_state',\n",
       " 'age_group',\n",
       " 'sex',\n",
       " 'race',\n",
       " 'ethnicity',\n",
       " 'exposure_yn',\n",
       " 'current_status',\n",
       " 'symptom_status',\n",
       " 'hosp_yn',\n",
       " 'icu_yn',\n",
       " 'death_yn',\n",
       " 'underlying_conditions_yn']"
      ]
     },
     "execution_count": 12,
     "metadata": {},
     "output_type": "execute_result"
    }
   ],
   "source": [
    "Dataset_5a = Dataset_5.drop(Dataset_5.columns[[2,3,4,9,10,11]], axis=1)\n",
    "list(Dataset_5a.columns)"
   ]
  },
  {
   "cell_type": "code",
   "execution_count": 46,
   "metadata": {},
   "outputs": [
    {
     "data": {
      "text/plain": [
       "case_month                  object\n",
       "res_state                   object\n",
       "age_group                   object\n",
       "sex                         object\n",
       "race                        object\n",
       "ethnicity                   object\n",
       "exposure_yn                 object\n",
       "current_status              object\n",
       "symptom_status              object\n",
       "hosp_yn                     object\n",
       "icu_yn                      object\n",
       "death_yn                    object\n",
       "underlying_conditions_yn    object\n",
       "dtype: object"
      ]
     },
     "execution_count": 46,
     "metadata": {},
     "output_type": "execute_result"
    }
   ],
   "source": [
    "Dataset_5a.dtypes"
   ]
  },
  {
   "cell_type": "code",
   "execution_count": 48,
   "metadata": {},
   "outputs": [
    {
     "data": {
      "text/html": [
       "<div>\n",
       "<style scoped>\n",
       "    .dataframe tbody tr th:only-of-type {\n",
       "        vertical-align: middle;\n",
       "    }\n",
       "\n",
       "    .dataframe tbody tr th {\n",
       "        vertical-align: top;\n",
       "    }\n",
       "\n",
       "    .dataframe thead th {\n",
       "        text-align: right;\n",
       "    }\n",
       "</style>\n",
       "<table border=\"1\" class=\"dataframe\">\n",
       "  <thead>\n",
       "    <tr style=\"text-align: right;\">\n",
       "      <th></th>\n",
       "      <th>case_month</th>\n",
       "      <th>res_state</th>\n",
       "      <th>age_group</th>\n",
       "      <th>sex</th>\n",
       "      <th>race</th>\n",
       "      <th>ethnicity</th>\n",
       "      <th>exposure_yn</th>\n",
       "      <th>current_status</th>\n",
       "      <th>symptom_status</th>\n",
       "      <th>hosp_yn</th>\n",
       "      <th>icu_yn</th>\n",
       "      <th>death_yn</th>\n",
       "      <th>underlying_conditions_yn</th>\n",
       "    </tr>\n",
       "  </thead>\n",
       "  <tbody>\n",
       "    <tr>\n",
       "      <th>0 - 17 years</th>\n",
       "      <td>NaN</td>\n",
       "      <td>NaN</td>\n",
       "      <td>3760274.0</td>\n",
       "      <td>NaN</td>\n",
       "      <td>NaN</td>\n",
       "      <td>NaN</td>\n",
       "      <td>NaN</td>\n",
       "      <td>NaN</td>\n",
       "      <td>NaN</td>\n",
       "      <td>NaN</td>\n",
       "      <td>NaN</td>\n",
       "      <td>NaN</td>\n",
       "      <td>NaN</td>\n",
       "    </tr>\n",
       "    <tr>\n",
       "      <th>18</th>\n",
       "      <td>NaN</td>\n",
       "      <td>1039.0</td>\n",
       "      <td>NaN</td>\n",
       "      <td>NaN</td>\n",
       "      <td>NaN</td>\n",
       "      <td>NaN</td>\n",
       "      <td>NaN</td>\n",
       "      <td>NaN</td>\n",
       "      <td>NaN</td>\n",
       "      <td>NaN</td>\n",
       "      <td>NaN</td>\n",
       "      <td>NaN</td>\n",
       "      <td>NaN</td>\n",
       "    </tr>\n",
       "    <tr>\n",
       "      <th>18 to 49 years</th>\n",
       "      <td>NaN</td>\n",
       "      <td>NaN</td>\n",
       "      <td>15879682.0</td>\n",
       "      <td>NaN</td>\n",
       "      <td>NaN</td>\n",
       "      <td>NaN</td>\n",
       "      <td>NaN</td>\n",
       "      <td>NaN</td>\n",
       "      <td>NaN</td>\n",
       "      <td>NaN</td>\n",
       "      <td>NaN</td>\n",
       "      <td>NaN</td>\n",
       "      <td>NaN</td>\n",
       "    </tr>\n",
       "    <tr>\n",
       "      <th>2020-01</th>\n",
       "      <td>4183.0</td>\n",
       "      <td>NaN</td>\n",
       "      <td>NaN</td>\n",
       "      <td>NaN</td>\n",
       "      <td>NaN</td>\n",
       "      <td>NaN</td>\n",
       "      <td>NaN</td>\n",
       "      <td>NaN</td>\n",
       "      <td>NaN</td>\n",
       "      <td>NaN</td>\n",
       "      <td>NaN</td>\n",
       "      <td>NaN</td>\n",
       "      <td>NaN</td>\n",
       "    </tr>\n",
       "    <tr>\n",
       "      <th>2020-02</th>\n",
       "      <td>4841.0</td>\n",
       "      <td>NaN</td>\n",
       "      <td>NaN</td>\n",
       "      <td>NaN</td>\n",
       "      <td>NaN</td>\n",
       "      <td>NaN</td>\n",
       "      <td>NaN</td>\n",
       "      <td>NaN</td>\n",
       "      <td>NaN</td>\n",
       "      <td>NaN</td>\n",
       "      <td>NaN</td>\n",
       "      <td>NaN</td>\n",
       "      <td>NaN</td>\n",
       "    </tr>\n",
       "    <tr>\n",
       "      <th>...</th>\n",
       "      <td>...</td>\n",
       "      <td>...</td>\n",
       "      <td>...</td>\n",
       "      <td>...</td>\n",
       "      <td>...</td>\n",
       "      <td>...</td>\n",
       "      <td>...</td>\n",
       "      <td>...</td>\n",
       "      <td>...</td>\n",
       "      <td>...</td>\n",
       "      <td>...</td>\n",
       "      <td>...</td>\n",
       "      <td>...</td>\n",
       "    </tr>\n",
       "    <tr>\n",
       "      <th>WV</th>\n",
       "      <td>NaN</td>\n",
       "      <td>9796.0</td>\n",
       "      <td>NaN</td>\n",
       "      <td>NaN</td>\n",
       "      <td>NaN</td>\n",
       "      <td>NaN</td>\n",
       "      <td>NaN</td>\n",
       "      <td>NaN</td>\n",
       "      <td>NaN</td>\n",
       "      <td>NaN</td>\n",
       "      <td>NaN</td>\n",
       "      <td>NaN</td>\n",
       "      <td>NaN</td>\n",
       "    </tr>\n",
       "    <tr>\n",
       "      <th>WY</th>\n",
       "      <td>NaN</td>\n",
       "      <td>1295.0</td>\n",
       "      <td>NaN</td>\n",
       "      <td>NaN</td>\n",
       "      <td>NaN</td>\n",
       "      <td>NaN</td>\n",
       "      <td>NaN</td>\n",
       "      <td>NaN</td>\n",
       "      <td>NaN</td>\n",
       "      <td>NaN</td>\n",
       "      <td>NaN</td>\n",
       "      <td>NaN</td>\n",
       "      <td>NaN</td>\n",
       "    </tr>\n",
       "    <tr>\n",
       "      <th>White</th>\n",
       "      <td>NaN</td>\n",
       "      <td>NaN</td>\n",
       "      <td>NaN</td>\n",
       "      <td>NaN</td>\n",
       "      <td>13119503.0</td>\n",
       "      <td>NaN</td>\n",
       "      <td>NaN</td>\n",
       "      <td>NaN</td>\n",
       "      <td>NaN</td>\n",
       "      <td>NaN</td>\n",
       "      <td>NaN</td>\n",
       "      <td>NaN</td>\n",
       "      <td>NaN</td>\n",
       "    </tr>\n",
       "    <tr>\n",
       "      <th>Yes</th>\n",
       "      <td>NaN</td>\n",
       "      <td>NaN</td>\n",
       "      <td>NaN</td>\n",
       "      <td>NaN</td>\n",
       "      <td>NaN</td>\n",
       "      <td>NaN</td>\n",
       "      <td>1991992.0</td>\n",
       "      <td>NaN</td>\n",
       "      <td>NaN</td>\n",
       "      <td>1408341.0</td>\n",
       "      <td>126677.0</td>\n",
       "      <td>291255.0</td>\n",
       "      <td>1860547.0</td>\n",
       "    </tr>\n",
       "    <tr>\n",
       "      <th>not specified</th>\n",
       "      <td>13.0</td>\n",
       "      <td>746.0</td>\n",
       "      <td>356631.0</td>\n",
       "      <td>943678.0</td>\n",
       "      <td>5365025.0</td>\n",
       "      <td>6293242.0</td>\n",
       "      <td>NaN</td>\n",
       "      <td>NaN</td>\n",
       "      <td>NaN</td>\n",
       "      <td>NaN</td>\n",
       "      <td>NaN</td>\n",
       "      <td>1490254.0</td>\n",
       "      <td>27956615.0</td>\n",
       "    </tr>\n",
       "  </tbody>\n",
       "</table>\n",
       "<p>99 rows × 13 columns</p>\n",
       "</div>"
      ],
      "text/plain": [
       "                case_month  res_state   age_group       sex        race  \\\n",
       "0 - 17 years           NaN        NaN   3760274.0       NaN         NaN   \n",
       "18                     NaN     1039.0         NaN       NaN         NaN   \n",
       "18 to 49 years         NaN        NaN  15879682.0       NaN         NaN   \n",
       "2020-01             4183.0        NaN         NaN       NaN         NaN   \n",
       "2020-02             4841.0        NaN         NaN       NaN         NaN   \n",
       "...                    ...        ...         ...       ...         ...   \n",
       "WV                     NaN     9796.0         NaN       NaN         NaN   \n",
       "WY                     NaN     1295.0         NaN       NaN         NaN   \n",
       "White                  NaN        NaN         NaN       NaN  13119503.0   \n",
       "Yes                    NaN        NaN         NaN       NaN         NaN   \n",
       "not specified         13.0      746.0    356631.0  943678.0   5365025.0   \n",
       "\n",
       "                ethnicity  exposure_yn  current_status  symptom_status  \\\n",
       "0 - 17 years          NaN          NaN             NaN             NaN   \n",
       "18                    NaN          NaN             NaN             NaN   \n",
       "18 to 49 years        NaN          NaN             NaN             NaN   \n",
       "2020-01               NaN          NaN             NaN             NaN   \n",
       "2020-02               NaN          NaN             NaN             NaN   \n",
       "...                   ...          ...             ...             ...   \n",
       "WV                    NaN          NaN             NaN             NaN   \n",
       "WY                    NaN          NaN             NaN             NaN   \n",
       "White                 NaN          NaN             NaN             NaN   \n",
       "Yes                   NaN    1991992.0             NaN             NaN   \n",
       "not specified   6293242.0          NaN             NaN             NaN   \n",
       "\n",
       "                  hosp_yn    icu_yn   death_yn  underlying_conditions_yn  \n",
       "0 - 17 years          NaN       NaN        NaN                       NaN  \n",
       "18                    NaN       NaN        NaN                       NaN  \n",
       "18 to 49 years        NaN       NaN        NaN                       NaN  \n",
       "2020-01               NaN       NaN        NaN                       NaN  \n",
       "2020-02               NaN       NaN        NaN                       NaN  \n",
       "...                   ...       ...        ...                       ...  \n",
       "WV                    NaN       NaN        NaN                       NaN  \n",
       "WY                    NaN       NaN        NaN                       NaN  \n",
       "White                 NaN       NaN        NaN                       NaN  \n",
       "Yes             1408341.0  126677.0   291255.0                 1860547.0  \n",
       "not specified         NaN       NaN  1490254.0                27956615.0  \n",
       "\n",
       "[99 rows x 13 columns]"
      ]
     },
     "execution_count": 48,
     "metadata": {},
     "output_type": "execute_result"
    }
   ],
   "source": [
    "# gives us the count of unique values in each column\n",
    "Dataset_5a.apply(pd.value_counts)"
   ]
  },
  {
   "cell_type": "code",
   "execution_count": 13,
   "metadata": {},
   "outputs": [
    {
     "data": {
      "text/plain": [
       "CA    4263508\n",
       "NY    2296687\n",
       "FL    1944432\n",
       "IL    1503858\n",
       "PA    1260445\n",
       "OH    1164869\n",
       "NC    1134556\n",
       "NJ    1101062\n",
       "GA    1024190\n",
       "AZ     977442\n",
       "TN     951324\n",
       "IN     810952\n",
       "MA     742329\n",
       "VA     728276\n",
       "MI     699252\n",
       "SC     679150\n",
       "MN     632586\n",
       "AL     626132\n",
       "WI     613109\n",
       "CO     589381\n",
       "WA     522954\n",
       "OK     509860\n",
       "MD     489767\n",
       "UT     452890\n",
       "IA     398813\n",
       "NV     353700\n",
       "KS     353256\n",
       "CT     347529\n",
       "KY     334023\n",
       "AR     318004\n",
       "OR     249940\n",
       "NM     223703\n",
       "ID     211699\n",
       "NE     200771\n",
       "RI     146408\n",
       "MT     120472\n",
       "SD     113732\n",
       "DE     111450\n",
       "NH      85260\n",
       "TX      82000\n",
       "AK      77725\n",
       "ME      72245\n",
       "MO      60394\n",
       "MS      53876\n",
       "DC      52323\n",
       "HI      36659\n",
       "PR      33407\n",
       "VT      24936\n",
       "ND      24174\n",
       "LA      19959\n",
       "WV       9796\n",
       "GU       8190\n",
       "VI       4915\n",
       "WY       1295\n",
       "18       1039\n",
       "Name: res_state, dtype: int64"
      ]
     },
     "execution_count": 13,
     "metadata": {},
     "output_type": "execute_result"
    }
   ],
   "source": [
    "# lets check a few columns that we are interested in individually\n",
    "Dataset_5a['res_state'].value_counts()"
   ]
  },
  {
   "cell_type": "code",
   "execution_count": 50,
   "metadata": {},
   "outputs": [
    {
     "data": {
      "text/plain": [
       "18 to 49 years    15879682\n",
       "50 to 64 years     5801945\n",
       "65+ years          3796330\n",
       "0 - 17 years       3760274\n",
       "not specified       356631\n",
       "Missing             256588\n",
       "Name: age_group, dtype: int64"
      ]
     },
     "execution_count": 50,
     "metadata": {},
     "output_type": "execute_result"
    }
   ],
   "source": [
    "Dataset_5a['age_group'].value_counts()"
   ]
  },
  {
   "cell_type": "code",
   "execution_count": 14,
   "metadata": {},
   "outputs": [],
   "source": [
    "# changing missing to not specified\n",
    "\n",
    "Dataset_5a['age_group'].replace({'Missing' : 'not specified'}, inplace=True)"
   ]
  },
  {
   "cell_type": "code",
   "execution_count": 15,
   "metadata": {},
   "outputs": [
    {
     "data": {
      "text/plain": [
       "18 to 49 years    15879682\n",
       "50 to 64 years     5801945\n",
       "65+ years          3796330\n",
       "0 - 17 years       3760274\n",
       "not specified       256588\n",
       "Name: age_group, dtype: int64"
      ]
     },
     "execution_count": 15,
     "metadata": {},
     "output_type": "execute_result"
    }
   ],
   "source": [
    "Dataset_5a['age_group'].value_counts()"
   ]
  },
  {
   "cell_type": "code",
   "execution_count": 16,
   "metadata": {},
   "outputs": [],
   "source": [
    "# As all the remaining columns are categorical, we are going to fill the null values with 'not specified' instead of 0\n",
    "Dataset_5a.fillna('not specified', inplace = True)"
   ]
  },
  {
   "cell_type": "code",
   "execution_count": 17,
   "metadata": {},
   "outputs": [
    {
     "data": {
      "text/plain": [
       "case_month                  0\n",
       "res_state                   0\n",
       "age_group                   0\n",
       "sex                         0\n",
       "race                        0\n",
       "ethnicity                   0\n",
       "exposure_yn                 0\n",
       "current_status              0\n",
       "symptom_status              0\n",
       "hosp_yn                     0\n",
       "icu_yn                      0\n",
       "death_yn                    0\n",
       "underlying_conditions_yn    0\n",
       "dtype: int64"
      ]
     },
     "execution_count": 17,
     "metadata": {},
     "output_type": "execute_result"
    }
   ],
   "source": [
    "Dataset_5a.isnull().sum()"
   ]
  },
  {
   "cell_type": "code",
   "execution_count": 18,
   "metadata": {},
   "outputs": [
    {
     "data": {
      "text/plain": [
       "['case_month',\n",
       " 'res_state',\n",
       " 'age_group',\n",
       " 'sex',\n",
       " 'race',\n",
       " 'ethnicity',\n",
       " 'exposure_yn',\n",
       " 'current_status',\n",
       " 'symptom_status',\n",
       " 'hosp_yn',\n",
       " 'icu_yn',\n",
       " 'death_yn']"
      ]
     },
     "execution_count": 18,
     "metadata": {},
     "output_type": "execute_result"
    }
   ],
   "source": [
    "#removing underlying conditions from dataset_5a\n",
    "\n",
    "Dataset_5b = Dataset_5a.drop(Dataset_5a.columns[[-1]], axis=1)\n",
    "list(Dataset_5b.columns)"
   ]
  },
  {
   "cell_type": "code",
   "execution_count": 19,
   "metadata": {},
   "outputs": [
    {
     "data": {
      "text/plain": [
       "['case_month',\n",
       " 'res_state',\n",
       " 'age_group',\n",
       " 'sex',\n",
       " 'race',\n",
       " 'ethnicity',\n",
       " 'exposure_yn',\n",
       " 'current_status',\n",
       " 'symptom_status',\n",
       " 'hosp_yn',\n",
       " 'icu_yn',\n",
       " 'death_yn']"
      ]
     },
     "execution_count": 19,
     "metadata": {},
     "output_type": "execute_result"
    }
   ],
   "source": [
    "# dropping cols from dataset_5 and then dropping the null values\n",
    "\n",
    "Dataset_5c = Dataset_5.drop(Dataset_5.columns[[2,3,4,9,10,11,18]], axis =1)\n",
    "list(Dataset_5c.columns)\n"
   ]
  },
  {
   "cell_type": "code",
   "execution_count": 20,
   "metadata": {},
   "outputs": [
    {
     "data": {
      "text/plain": [
       "case_month        0\n",
       "res_state         0\n",
       "age_group         0\n",
       "sex               0\n",
       "race              0\n",
       "ethnicity         0\n",
       "exposure_yn       0\n",
       "current_status    0\n",
       "symptom_status    0\n",
       "hosp_yn           0\n",
       "icu_yn            0\n",
       "death_yn          0\n",
       "dtype: int64"
      ]
     },
     "execution_count": 20,
     "metadata": {},
     "output_type": "execute_result"
    }
   ],
   "source": [
    "Dataset_5c.dropna(inplace = True)\n",
    "Dataset_5c.isnull().sum()"
   ]
  },
  {
   "cell_type": "code",
   "execution_count": 21,
   "metadata": {},
   "outputs": [
    {
     "data": {
      "text/plain": [
       "(29851450, 13)"
      ]
     },
     "execution_count": 21,
     "metadata": {},
     "output_type": "execute_result"
    }
   ],
   "source": [
    "Dataset_5a.shape"
   ]
  },
  {
   "cell_type": "code",
   "execution_count": 22,
   "metadata": {},
   "outputs": [
    {
     "data": {
      "text/plain": [
       "(29851450, 12)"
      ]
     },
     "execution_count": 22,
     "metadata": {},
     "output_type": "execute_result"
    }
   ],
   "source": [
    "Dataset_5b.shape"
   ]
  },
  {
   "cell_type": "code",
   "execution_count": 23,
   "metadata": {},
   "outputs": [
    {
     "data": {
      "text/plain": [
       "(22758349, 12)"
      ]
     },
     "execution_count": 23,
     "metadata": {},
     "output_type": "execute_result"
    }
   ],
   "source": [
    "Dataset_5c.shape"
   ]
  }
 ],
 "metadata": {
  "kernelspec": {
   "display_name": "Python 3",
   "language": "python",
   "name": "python3"
  },
  "language_info": {
   "codemirror_mode": {
    "name": "ipython",
    "version": 3
   },
   "file_extension": ".py",
   "mimetype": "text/x-python",
   "name": "python",
   "nbconvert_exporter": "python",
   "pygments_lexer": "ipython3",
   "version": "3.8.5"
  }
 },
 "nbformat": 4,
 "nbformat_minor": 4
}
